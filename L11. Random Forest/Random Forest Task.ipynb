{
 "cells": [
  {
   "cell_type": "markdown",
   "id": "0fe06b32",
   "metadata": {},
   "source": [
    "## Random Forest in action"
   ]
  },
  {
   "cell_type": "markdown",
   "id": "16ff6d92",
   "metadata": {},
   "source": [
    "You're task will be to build a Random Forest Regressor for the London Bike Sharing dataset.\n",
    "The file is given below.\n",
    "\n",
    "Target column => \"cnt\"\n",
    "\n",
    "Your solution solution should consist of the following parts:\n",
    "1. Data Preprocessing/Cleaning\n",
    "2. Builidng RF model\n",
    "3. Optimizing RF model\n",
    "\n",
    "Think ahead of metrics you'll use, how to split data and if cross-validation is needed."
   ]
  },
  {
   "cell_type": "code",
   "execution_count": 1,
   "id": "9d44862d",
   "metadata": {},
   "outputs": [],
   "source": [
    "import pandas as pd\n",
    "import seaborn as sns\n",
    "from sklearn.ensemble import RandomForestRegressor\n",
    "from sklearn import metrics\n",
    "from sklearn.model_selection import cross_val_score\n",
    "from sklearn.model_selection import train_test_split\n",
    "import numpy as np\n",
    "#import other packages you'll need"
   ]
  },
  {
   "cell_type": "code",
   "execution_count": 2,
   "id": "e3809111",
   "metadata": {},
   "outputs": [],
   "source": [
    "filename = 'london_merged.csv'"
   ]
  },
  {
   "cell_type": "code",
   "execution_count": 3,
   "id": "0399173f",
   "metadata": {},
   "outputs": [],
   "source": [
    "#Source: https://www.kaggle.com/hmavrodiev/london-bike-sharing-dataset\n",
    "\n",
    "#Don't think too much about the getDataset method. It is used for convenience\n",
    "def getDataset(filename, **kwargs):\n",
    "    url = f'https://github.com/IvanReznikov/mdx-msc-data-science/raw/main/datasets/{filename}'\n",
    "    try:\n",
    "        import os\n",
    "        if filename not in os.listdir():\n",
    "            !pip install wget\n",
    "            import wget\n",
    "            downloaded_filename = wget.download(url)\n",
    "            print(f'{downloaded_filename} file downloaded')\n",
    "        else:\n",
    "            print(f'{filename} already exists')\n",
    "        return pd.read_csv(filename, **kwargs)\n",
    "        \n",
    "    except Exception as e:\n",
    "        print(e)\n",
    "        return pd.read_csv(url, **kwargs)"
   ]
  },
  {
   "cell_type": "code",
   "execution_count": 4,
   "id": "8de8497e",
   "metadata": {},
   "outputs": [
    {
     "name": "stdout",
     "output_type": "stream",
     "text": [
      "london_merged.csv already exists\n"
     ]
    },
    {
     "data": {
      "text/html": [
       "<div>\n",
       "<style scoped>\n",
       "    .dataframe tbody tr th:only-of-type {\n",
       "        vertical-align: middle;\n",
       "    }\n",
       "\n",
       "    .dataframe tbody tr th {\n",
       "        vertical-align: top;\n",
       "    }\n",
       "\n",
       "    .dataframe thead th {\n",
       "        text-align: right;\n",
       "    }\n",
       "</style>\n",
       "<table border=\"1\" class=\"dataframe\">\n",
       "  <thead>\n",
       "    <tr style=\"text-align: right;\">\n",
       "      <th></th>\n",
       "      <th>timestamp</th>\n",
       "      <th>cnt</th>\n",
       "      <th>t1</th>\n",
       "      <th>t2</th>\n",
       "      <th>hum</th>\n",
       "      <th>wind_speed</th>\n",
       "      <th>weather_code</th>\n",
       "      <th>is_holiday</th>\n",
       "      <th>is_weekend</th>\n",
       "      <th>season</th>\n",
       "    </tr>\n",
       "  </thead>\n",
       "  <tbody>\n",
       "    <tr>\n",
       "      <th>0</th>\n",
       "      <td>2015-01-04 00:00:00</td>\n",
       "      <td>182</td>\n",
       "      <td>3.0</td>\n",
       "      <td>2.0</td>\n",
       "      <td>93.0</td>\n",
       "      <td>6.0</td>\n",
       "      <td>3.0</td>\n",
       "      <td>0.0</td>\n",
       "      <td>1.0</td>\n",
       "      <td>3.0</td>\n",
       "    </tr>\n",
       "    <tr>\n",
       "      <th>1</th>\n",
       "      <td>2015-01-04 01:00:00</td>\n",
       "      <td>138</td>\n",
       "      <td>3.0</td>\n",
       "      <td>2.5</td>\n",
       "      <td>93.0</td>\n",
       "      <td>5.0</td>\n",
       "      <td>1.0</td>\n",
       "      <td>0.0</td>\n",
       "      <td>1.0</td>\n",
       "      <td>3.0</td>\n",
       "    </tr>\n",
       "    <tr>\n",
       "      <th>2</th>\n",
       "      <td>2015-01-04 02:00:00</td>\n",
       "      <td>134</td>\n",
       "      <td>2.5</td>\n",
       "      <td>2.5</td>\n",
       "      <td>96.5</td>\n",
       "      <td>0.0</td>\n",
       "      <td>1.0</td>\n",
       "      <td>0.0</td>\n",
       "      <td>1.0</td>\n",
       "      <td>3.0</td>\n",
       "    </tr>\n",
       "    <tr>\n",
       "      <th>3</th>\n",
       "      <td>2015-01-04 03:00:00</td>\n",
       "      <td>72</td>\n",
       "      <td>2.0</td>\n",
       "      <td>2.0</td>\n",
       "      <td>100.0</td>\n",
       "      <td>0.0</td>\n",
       "      <td>1.0</td>\n",
       "      <td>0.0</td>\n",
       "      <td>1.0</td>\n",
       "      <td>3.0</td>\n",
       "    </tr>\n",
       "    <tr>\n",
       "      <th>4</th>\n",
       "      <td>2015-01-04 04:00:00</td>\n",
       "      <td>47</td>\n",
       "      <td>2.0</td>\n",
       "      <td>0.0</td>\n",
       "      <td>93.0</td>\n",
       "      <td>6.5</td>\n",
       "      <td>1.0</td>\n",
       "      <td>0.0</td>\n",
       "      <td>1.0</td>\n",
       "      <td>3.0</td>\n",
       "    </tr>\n",
       "  </tbody>\n",
       "</table>\n",
       "</div>"
      ],
      "text/plain": [
       "             timestamp  cnt   t1   t2    hum  wind_speed  weather_code  \\\n",
       "0  2015-01-04 00:00:00  182  3.0  2.0   93.0         6.0           3.0   \n",
       "1  2015-01-04 01:00:00  138  3.0  2.5   93.0         5.0           1.0   \n",
       "2  2015-01-04 02:00:00  134  2.5  2.5   96.5         0.0           1.0   \n",
       "3  2015-01-04 03:00:00   72  2.0  2.0  100.0         0.0           1.0   \n",
       "4  2015-01-04 04:00:00   47  2.0  0.0   93.0         6.5           1.0   \n",
       "\n",
       "   is_holiday  is_weekend  season  \n",
       "0         0.0         1.0     3.0  \n",
       "1         0.0         1.0     3.0  \n",
       "2         0.0         1.0     3.0  \n",
       "3         0.0         1.0     3.0  \n",
       "4         0.0         1.0     3.0  "
      ]
     },
     "execution_count": 4,
     "metadata": {},
     "output_type": "execute_result"
    }
   ],
   "source": [
    "df = getDataset(filename)\n",
    "df.head()"
   ]
  },
  {
   "cell_type": "code",
   "execution_count": 15,
   "id": "5138a903",
   "metadata": {},
   "outputs": [
    {
     "data": {
      "text/html": [
       "<div>\n",
       "<style scoped>\n",
       "    .dataframe tbody tr th:only-of-type {\n",
       "        vertical-align: middle;\n",
       "    }\n",
       "\n",
       "    .dataframe tbody tr th {\n",
       "        vertical-align: top;\n",
       "    }\n",
       "\n",
       "    .dataframe thead th {\n",
       "        text-align: right;\n",
       "    }\n",
       "</style>\n",
       "<table border=\"1\" class=\"dataframe\">\n",
       "  <thead>\n",
       "    <tr style=\"text-align: right;\">\n",
       "      <th></th>\n",
       "      <th>1.0</th>\n",
       "      <th>2.0</th>\n",
       "      <th>3.0</th>\n",
       "      <th>4.0</th>\n",
       "      <th>7.0</th>\n",
       "      <th>10.0</th>\n",
       "      <th>26.0</th>\n",
       "    </tr>\n",
       "  </thead>\n",
       "  <tbody>\n",
       "    <tr>\n",
       "      <th>0</th>\n",
       "      <td>0</td>\n",
       "      <td>0</td>\n",
       "      <td>1</td>\n",
       "      <td>0</td>\n",
       "      <td>0</td>\n",
       "      <td>0</td>\n",
       "      <td>0</td>\n",
       "    </tr>\n",
       "    <tr>\n",
       "      <th>1</th>\n",
       "      <td>1</td>\n",
       "      <td>0</td>\n",
       "      <td>0</td>\n",
       "      <td>0</td>\n",
       "      <td>0</td>\n",
       "      <td>0</td>\n",
       "      <td>0</td>\n",
       "    </tr>\n",
       "    <tr>\n",
       "      <th>2</th>\n",
       "      <td>1</td>\n",
       "      <td>0</td>\n",
       "      <td>0</td>\n",
       "      <td>0</td>\n",
       "      <td>0</td>\n",
       "      <td>0</td>\n",
       "      <td>0</td>\n",
       "    </tr>\n",
       "    <tr>\n",
       "      <th>3</th>\n",
       "      <td>1</td>\n",
       "      <td>0</td>\n",
       "      <td>0</td>\n",
       "      <td>0</td>\n",
       "      <td>0</td>\n",
       "      <td>0</td>\n",
       "      <td>0</td>\n",
       "    </tr>\n",
       "    <tr>\n",
       "      <th>4</th>\n",
       "      <td>1</td>\n",
       "      <td>0</td>\n",
       "      <td>0</td>\n",
       "      <td>0</td>\n",
       "      <td>0</td>\n",
       "      <td>0</td>\n",
       "      <td>0</td>\n",
       "    </tr>\n",
       "    <tr>\n",
       "      <th>...</th>\n",
       "      <td>...</td>\n",
       "      <td>...</td>\n",
       "      <td>...</td>\n",
       "      <td>...</td>\n",
       "      <td>...</td>\n",
       "      <td>...</td>\n",
       "      <td>...</td>\n",
       "    </tr>\n",
       "    <tr>\n",
       "      <th>17409</th>\n",
       "      <td>0</td>\n",
       "      <td>0</td>\n",
       "      <td>1</td>\n",
       "      <td>0</td>\n",
       "      <td>0</td>\n",
       "      <td>0</td>\n",
       "      <td>0</td>\n",
       "    </tr>\n",
       "    <tr>\n",
       "      <th>17410</th>\n",
       "      <td>0</td>\n",
       "      <td>0</td>\n",
       "      <td>0</td>\n",
       "      <td>1</td>\n",
       "      <td>0</td>\n",
       "      <td>0</td>\n",
       "      <td>0</td>\n",
       "    </tr>\n",
       "    <tr>\n",
       "      <th>17411</th>\n",
       "      <td>0</td>\n",
       "      <td>0</td>\n",
       "      <td>0</td>\n",
       "      <td>1</td>\n",
       "      <td>0</td>\n",
       "      <td>0</td>\n",
       "      <td>0</td>\n",
       "    </tr>\n",
       "    <tr>\n",
       "      <th>17412</th>\n",
       "      <td>0</td>\n",
       "      <td>0</td>\n",
       "      <td>0</td>\n",
       "      <td>1</td>\n",
       "      <td>0</td>\n",
       "      <td>0</td>\n",
       "      <td>0</td>\n",
       "    </tr>\n",
       "    <tr>\n",
       "      <th>17413</th>\n",
       "      <td>0</td>\n",
       "      <td>1</td>\n",
       "      <td>0</td>\n",
       "      <td>0</td>\n",
       "      <td>0</td>\n",
       "      <td>0</td>\n",
       "      <td>0</td>\n",
       "    </tr>\n",
       "  </tbody>\n",
       "</table>\n",
       "<p>17414 rows × 7 columns</p>\n",
       "</div>"
      ],
      "text/plain": [
       "       1.0   2.0   3.0   4.0   7.0   10.0  26.0\n",
       "0         0     0     1     0     0     0     0\n",
       "1         1     0     0     0     0     0     0\n",
       "2         1     0     0     0     0     0     0\n",
       "3         1     0     0     0     0     0     0\n",
       "4         1     0     0     0     0     0     0\n",
       "...     ...   ...   ...   ...   ...   ...   ...\n",
       "17409     0     0     1     0     0     0     0\n",
       "17410     0     0     0     1     0     0     0\n",
       "17411     0     0     0     1     0     0     0\n",
       "17412     0     0     0     1     0     0     0\n",
       "17413     0     1     0     0     0     0     0\n",
       "\n",
       "[17414 rows x 7 columns]"
      ]
     },
     "execution_count": 15,
     "metadata": {},
     "output_type": "execute_result"
    }
   ],
   "source": [
    "pd.get_dummies(df['weather_code'])"
   ]
  },
  {
   "cell_type": "markdown",
   "id": "4e4d316d",
   "metadata": {},
   "source": [
    "Preprocessing operations:\n",
    "- check for null values => isnull, isna\n",
    "- check for outliers\n",
    "- transform columns:\n",
    "-- convert season and weather_code to categorical or pd.dummies\n",
    "-- convert timestamp to pd.to_datetime(df['timestamp']) and try <b>pd.to_datetime(df['timestamp']).dt.day</b>\n",
    "-- convert is_holiday, is_weekend to bool\n",
    "- remove correlations\n",
    "-- PCA\n",
    "-- df.corr() -- heatmap\n",
    "\n",
    "consider train split parameters"
   ]
  },
  {
   "cell_type": "code",
   "execution_count": 5,
   "id": "4539535e",
   "metadata": {},
   "outputs": [
    {
     "data": {
      "text/plain": [
       "Index(['timestamp', 'cnt', 't1', 't2', 'hum', 'wind_speed', 'weather_code',\n",
       "       'is_holiday', 'is_weekend', 'season'],\n",
       "      dtype='object')"
      ]
     },
     "execution_count": 5,
     "metadata": {},
     "output_type": "execute_result"
    }
   ],
   "source": [
    "df.columns"
   ]
  },
  {
   "cell_type": "code",
   "execution_count": 6,
   "id": "45a5fec7",
   "metadata": {},
   "outputs": [],
   "source": [
    "df['hour'] = pd.to_datetime(df['timestamp']).dt.hour"
   ]
  },
  {
   "cell_type": "markdown",
   "id": "2bad23b7",
   "metadata": {},
   "source": [
    "df_X = columns from t1 -> season\n",
    "df_y = cnt column"
   ]
  },
  {
   "cell_type": "code",
   "execution_count": 7,
   "id": "ba377f50",
   "metadata": {},
   "outputs": [],
   "source": [
    "evaluation = pd.DataFrame({'Model': [],\n",
    "                           'Details':[],\n",
    "                           'Root Mean Squared Error (RMSE)':[],\n",
    "                           'R-squared (training)':[],\n",
    "                           'Adjusted R-squared (training)':[],\n",
    "                           'R-squared (test)':[],\n",
    "                           'Adjusted R-squared (test)':[],\n",
    "                           '5-Fold Cross Validation':[]})"
   ]
  },
  {
   "cell_type": "code",
   "execution_count": 8,
   "id": "cab5f6aa",
   "metadata": {},
   "outputs": [],
   "source": [
    "def adjustedR2(r2,n,k):\n",
    "    return r2-(k-1)/(n-k)*(1-r2)"
   ]
  },
  {
   "cell_type": "code",
   "execution_count": 9,
   "id": "97000ce1",
   "metadata": {},
   "outputs": [],
   "source": [
    "target = \"cnt\"\n",
    "feature_names = [x for x in df.columns if (x != target and x!= 'timestamp')]\n",
    "df_X = df[feature_names]\n",
    "df_y = df[target]\n",
    "\n",
    "X_train, X_test, y_train, y_test = train_test_split(df_X, df_y, test_size=0.33, random_state=42)\n",
    "\n",
    "rf = RandomForestRegressor(n_estimators=100, max_depth=10, random_state = 42, n_jobs=-1).fit(X_train, y_train)\n",
    "pred = rf.predict(X_test)\n",
    "\n",
    "rmsecm = float(format(np.sqrt(metrics.mean_squared_error(y_test,pred)),'.3f'))\n",
    "rtrcm = float(format(rf.score(X_train,y_train),'.3f'))\n",
    "artrcm = float(format(adjustedR2(rf.score(X_train,y_train),X_train.shape[0],len(feature_names)),'.3f'))\n",
    "rtecm = float(format(rf.score(X_test,y_test),'.3f'))\n",
    "artecm = float(format(adjustedR2(rf.score(X_test,y_test),X_test.shape[0],len(feature_names)),'.3f'))\n",
    "cv = float(format(cross_val_score(rf,df[feature_names],df['cnt'],cv=5).mean(),'.3f'))\n",
    "\n",
    "r = evaluation.shape[0]\n",
    "evaluation.loc[r] = ['Random Forest-100',f'--depth:10',rmsecm,rtrcm,artrcm,rtecm,artecm,cv]"
   ]
  },
  {
   "cell_type": "code",
   "execution_count": 10,
   "id": "87e7b3dd",
   "metadata": {},
   "outputs": [
    {
     "data": {
      "text/html": [
       "<div>\n",
       "<style scoped>\n",
       "    .dataframe tbody tr th:only-of-type {\n",
       "        vertical-align: middle;\n",
       "    }\n",
       "\n",
       "    .dataframe tbody tr th {\n",
       "        vertical-align: top;\n",
       "    }\n",
       "\n",
       "    .dataframe thead th {\n",
       "        text-align: right;\n",
       "    }\n",
       "</style>\n",
       "<table border=\"1\" class=\"dataframe\">\n",
       "  <thead>\n",
       "    <tr style=\"text-align: right;\">\n",
       "      <th></th>\n",
       "      <th>Model</th>\n",
       "      <th>Details</th>\n",
       "      <th>Root Mean Squared Error (RMSE)</th>\n",
       "      <th>R-squared (training)</th>\n",
       "      <th>Adjusted R-squared (training)</th>\n",
       "      <th>R-squared (test)</th>\n",
       "      <th>Adjusted R-squared (test)</th>\n",
       "      <th>5-Fold Cross Validation</th>\n",
       "    </tr>\n",
       "  </thead>\n",
       "  <tbody>\n",
       "    <tr>\n",
       "      <th>0</th>\n",
       "      <td>Random Forest-100</td>\n",
       "      <td>--depth:10</td>\n",
       "      <td>268.711</td>\n",
       "      <td>0.952</td>\n",
       "      <td>0.952</td>\n",
       "      <td>0.939</td>\n",
       "      <td>0.939</td>\n",
       "      <td>0.914</td>\n",
       "    </tr>\n",
       "  </tbody>\n",
       "</table>\n",
       "</div>"
      ],
      "text/plain": [
       "               Model     Details  Root Mean Squared Error (RMSE)  \\\n",
       "0  Random Forest-100  --depth:10                         268.711   \n",
       "\n",
       "   R-squared (training)  Adjusted R-squared (training)  R-squared (test)  \\\n",
       "0                 0.952                          0.952             0.939   \n",
       "\n",
       "   Adjusted R-squared (test)  5-Fold Cross Validation  \n",
       "0                      0.939                    0.914  "
      ]
     },
     "execution_count": 10,
     "metadata": {},
     "output_type": "execute_result"
    }
   ],
   "source": [
    "evaluation.sort_values(by = '5-Fold Cross Validation', ascending=False)"
   ]
  },
  {
   "cell_type": "code",
   "execution_count": 11,
   "id": "03ec0d06",
   "metadata": {},
   "outputs": [
    {
     "data": {
      "text/plain": [
       "Text(0, 0.5, 'Mean decrease in impurity')"
      ]
     },
     "execution_count": 11,
     "metadata": {},
     "output_type": "execute_result"
    },
    {
     "data": {
      "image/png": "[encoded data removed]",
      "text/plain": [
       "<Figure size 432x288 with 1 Axes>"
      ]
     },
     "metadata": {
      "needs_background": "light"
     },
     "output_type": "display_data"
    }
   ],
   "source": [
    "import matplotlib.pyplot as plt        \n",
    "\n",
    "importances = rf.feature_importances_   \n",
    "forest_importances = pd.Series(importances, index=feature_names)   \n",
    "fig, ax = plt.subplots()   \n",
    "forest_importances.plot.bar(ax=ax)   \n",
    "ax.set_title(\"Feature importances using MDI\")   \n",
    "ax.set_ylabel(\"Mean decrease in impurity\")"
   ]
  },
  {
   "cell_type": "code",
   "execution_count": null,
   "id": "a2672ef3",
   "metadata": {},
   "outputs": [],
   "source": []
  }
 ],
 "metadata": {
  "kernelspec": {
   "display_name": "Python 3 (ipykernel)",
   "language": "python",
   "name": "python3"
  },
  "language_info": {
   "codemirror_mode": {
    "name": "ipython",
    "version": 3
   },
   "file_extension": ".py",
   "mimetype": "text/x-python",
   "name": "python",
   "nbconvert_exporter": "python",
   "pygments_lexer": "ipython3",
   "version": "3.8.10"
  }
 },
 "nbformat": 4,
 "nbformat_minor": 5
}

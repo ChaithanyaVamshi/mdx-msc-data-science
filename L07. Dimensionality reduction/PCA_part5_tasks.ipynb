{
 "cells": [
  {
   "cell_type": "code",
   "execution_count": null,
   "id": "8f39c133",
   "metadata": {},
   "outputs": [],
   "source": [
    "!pip install sklearn\n",
    "\n",
    "import pandas as pd\n",
    "import numpy as np\n",
    "from sklearn.decomposition import PCA\n",
    "import matplotlib.pyplot as plt"
   ]
  },
  {
   "cell_type": "code",
   "execution_count": null,
   "id": "84b10bb0",
   "metadata": {},
   "outputs": [],
   "source": [
    "filename = 'WA_Fn-UseC_-Telco-Customer-Churn.csv'"
   ]
  },
  {
   "cell_type": "code",
   "execution_count": null,
   "id": "9083cac4",
   "metadata": {},
   "outputs": [],
   "source": [
    "#original source: https://www.kaggle.com/blastchar/telco-customer-churn\n",
    "\n",
    "#Don't think too much about the getDataset method. It is used for convenience\n",
    "def getDataset(filename, **kwargs):\n",
    "    url = f'https://github.com/IvanReznikov/mdx-msc-data-science/raw/main/datasets/{filename}'\n",
    "    try:\n",
    "        import os\n",
    "        if filename not in os.listdir():\n",
    "            !pip install wget\n",
    "            import wget\n",
    "            downloaded_filename = wget.download(url)\n",
    "            print(f'{downloaded_filename} file downloaded')\n",
    "        else:\n",
    "            print(f'{filename} already exists')\n",
    "        return pd.read_csv(filename, **kwargs)\n",
    "        \n",
    "    except Exception as e:\n",
    "        print(e)\n",
    "        return pd.read_csv(url, **kwargs)"
   ]
  },
  {
   "cell_type": "code",
   "execution_count": null,
   "id": "11912cf9",
   "metadata": {},
   "outputs": [],
   "source": [
    "df = pd.read_csv(filename)"
   ]
  },
  {
   "cell_type": "code",
   "execution_count": null,
   "id": "7db1bc6e",
   "metadata": {},
   "outputs": [],
   "source": [
    "df"
   ]
  },
  {
   "cell_type": "code",
   "execution_count": null,
   "id": "7edaf431",
   "metadata": {},
   "outputs": [],
   "source": [
    "churn_df = df['Churn']\n",
    "df.drop(['customerID', 'Churn'], axis=1, inplace=True)"
   ]
  },
  {
   "cell_type": "code",
   "execution_count": null,
   "id": "ceedaca1",
   "metadata": {},
   "outputs": [],
   "source": [
    "df.dtypes"
   ]
  },
  {
   "cell_type": "markdown",
   "id": "a73e4352",
   "metadata": {},
   "source": [
    "### Gender"
   ]
  },
  {
   "cell_type": "code",
   "execution_count": null,
   "id": "ad53563b",
   "metadata": {},
   "outputs": [],
   "source": [
    "df['gender'].value_counts()"
   ]
  },
  {
   "cell_type": "code",
   "execution_count": null,
   "id": "21083eba",
   "metadata": {},
   "outputs": [],
   "source": [
    "gender_map = {\"Male\":0, \"Female\":1}"
   ]
  },
  {
   "cell_type": "code",
   "execution_count": null,
   "id": "37478222",
   "metadata": {},
   "outputs": [],
   "source": [
    "df['gender'] = df['gender'].replace(gender_map).astype(bool)"
   ]
  },
  {
   "cell_type": "code",
   "execution_count": null,
   "id": "7279f16b",
   "metadata": {},
   "outputs": [],
   "source": [
    "df['gender']"
   ]
  },
  {
   "cell_type": "markdown",
   "id": "22f84898",
   "metadata": {},
   "source": [
    "### SeniorCitizen"
   ]
  },
  {
   "cell_type": "code",
   "execution_count": null,
   "id": "e179046f",
   "metadata": {},
   "outputs": [],
   "source": [
    "df['SeniorCitizen'].value_counts()"
   ]
  },
  {
   "cell_type": "code",
   "execution_count": null,
   "id": "e8c26362",
   "metadata": {},
   "outputs": [],
   "source": [
    "df['SeniorCitizen'].astype(bool)"
   ]
  },
  {
   "cell_type": "markdown",
   "id": "d1902639",
   "metadata": {},
   "source": [
    "### Partner"
   ]
  },
  {
   "cell_type": "code",
   "execution_count": null,
   "id": "c3cc6385",
   "metadata": {},
   "outputs": [],
   "source": [
    "df['Partner'].value_counts()"
   ]
  },
  {
   "cell_type": "code",
   "execution_count": null,
   "id": "74e5417f",
   "metadata": {},
   "outputs": [],
   "source": [
    "yesno_map = {\"Yes\":1, \"No\":0}"
   ]
  },
  {
   "cell_type": "code",
   "execution_count": null,
   "id": "58cdd940",
   "metadata": {},
   "outputs": [],
   "source": [
    "df['Partner'] = df['Partner'].replace(yesno_map).astype(bool)"
   ]
  },
  {
   "cell_type": "markdown",
   "id": "9809c58b",
   "metadata": {},
   "source": [
    "### Dependents"
   ]
  },
  {
   "cell_type": "code",
   "execution_count": null,
   "id": "e312a6f4",
   "metadata": {},
   "outputs": [],
   "source": [
    "df['Dependents'].value_counts()"
   ]
  },
  {
   "cell_type": "code",
   "execution_count": null,
   "id": "667e9361",
   "metadata": {},
   "outputs": [],
   "source": [
    "df['Dependents'] = df['Dependents'].replace(yesno_map).astype(bool)"
   ]
  },
  {
   "cell_type": "markdown",
   "id": "d79269d7",
   "metadata": {},
   "source": [
    "### Tenure"
   ]
  },
  {
   "cell_type": "code",
   "execution_count": null,
   "id": "0237780f",
   "metadata": {},
   "outputs": [],
   "source": [
    "df['tenure'].value_counts()"
   ]
  },
  {
   "cell_type": "markdown",
   "id": "7396ce2d",
   "metadata": {},
   "source": [
    "### PhoneService"
   ]
  },
  {
   "cell_type": "code",
   "execution_count": null,
   "id": "fc2d9e73",
   "metadata": {},
   "outputs": [],
   "source": [
    "df['PhoneService'].value_counts()"
   ]
  },
  {
   "cell_type": "code",
   "execution_count": null,
   "id": "371d0f46",
   "metadata": {},
   "outputs": [],
   "source": [
    "df['PhoneService'] = df['PhoneService'].replace(yesno_map).astype(bool)"
   ]
  },
  {
   "cell_type": "markdown",
   "id": "0489e440",
   "metadata": {},
   "source": [
    "### MultipleLines"
   ]
  },
  {
   "cell_type": "code",
   "execution_count": null,
   "id": "4c8ebaa7",
   "metadata": {},
   "outputs": [],
   "source": [
    "df['MultipleLines'].value_counts()"
   ]
  },
  {
   "cell_type": "code",
   "execution_count": null,
   "id": "edd7e95f",
   "metadata": {},
   "outputs": [],
   "source": [
    "multiple_lines_map = {\"Yes\":1, \"No\":0, \"No phone service\":0}"
   ]
  },
  {
   "cell_type": "code",
   "execution_count": null,
   "id": "d1dda045",
   "metadata": {},
   "outputs": [],
   "source": [
    "df['MultipleLines'] = df['MultipleLines'].replace(multiple_lines_map).astype(bool)"
   ]
  },
  {
   "cell_type": "markdown",
   "id": "bf702a60",
   "metadata": {},
   "source": [
    "### InternetService"
   ]
  },
  {
   "cell_type": "code",
   "execution_count": null,
   "id": "7b6e9043",
   "metadata": {},
   "outputs": [],
   "source": [
    "df['InternetService'].value_counts()"
   ]
  },
  {
   "cell_type": "code",
   "execution_count": null,
   "id": "6330f518",
   "metadata": {},
   "outputs": [],
   "source": [
    "internet_dummies = pd.get_dummies(df['InternetService'])\n",
    "internet_dummies"
   ]
  },
  {
   "cell_type": "code",
   "execution_count": null,
   "id": "da5b6f08",
   "metadata": {},
   "outputs": [],
   "source": [
    "df = pd.merge(df, internet_dummies.iloc[:, 0:2], left_on=df.index, right_on = internet_dummies.index)"
   ]
  },
  {
   "cell_type": "code",
   "execution_count": null,
   "id": "fe49ed37",
   "metadata": {},
   "outputs": [],
   "source": [
    "df.drop(['InternetService', 'key_0'], axis=1, inplace=True)"
   ]
  },
  {
   "cell_type": "markdown",
   "id": "51f45124",
   "metadata": {},
   "source": [
    "### OnlineSecurity"
   ]
  },
  {
   "cell_type": "code",
   "execution_count": null,
   "id": "b14b653a",
   "metadata": {},
   "outputs": [],
   "source": [
    "df['OnlineSecurity'].value_counts()"
   ]
  },
  {
   "cell_type": "code",
   "execution_count": null,
   "id": "03a84272",
   "metadata": {},
   "outputs": [],
   "source": [
    "online_security_map = {\"Yes\":1, \"No\":0, \"No internet service\":0}"
   ]
  },
  {
   "cell_type": "code",
   "execution_count": null,
   "id": "f8400842",
   "metadata": {},
   "outputs": [],
   "source": [
    "df['OnlineSecurity'] = df['OnlineSecurity'].replace(online_security_map).astype(bool)"
   ]
  },
  {
   "cell_type": "markdown",
   "id": "dae5acd6",
   "metadata": {},
   "source": [
    "Task 1. Finish other columns. After you finish with all columns, use your dataframe instead of `mini_df` used ahead"
   ]
  },
  {
   "cell_type": "code",
   "execution_count": null,
   "id": "a2fb3bad",
   "metadata": {},
   "outputs": [],
   "source": []
  },
  {
   "cell_type": "code",
   "execution_count": null,
   "id": "96facf2b",
   "metadata": {},
   "outputs": [],
   "source": [
    "mini_df = df[['gender', 'SeniorCitizen', 'Partner', 'Dependents', 'tenure', 'PhoneService', 'MultipleLines', \n",
    "              'OnlineSecurity', 'MonthlyCharges', 'DSL', 'Fiber optic']]"
   ]
  },
  {
   "cell_type": "code",
   "execution_count": null,
   "id": "8864bed2",
   "metadata": {},
   "outputs": [],
   "source": [
    "mini_df.dtypes"
   ]
  },
  {
   "cell_type": "markdown",
   "id": "3e53ff51",
   "metadata": {},
   "source": [
    "### PCA"
   ]
  },
  {
   "cell_type": "markdown",
   "id": "104fb29c",
   "metadata": {},
   "source": [
    "Task 2. Build PCA"
   ]
  },
  {
   "cell_type": "code",
   "execution_count": null,
   "id": "1efe2c1f",
   "metadata": {},
   "outputs": [],
   "source": []
  },
  {
   "cell_type": "markdown",
   "id": "a99b69b9",
   "metadata": {},
   "source": [
    "Task 3. Analysis PC-feature dependences"
   ]
  },
  {
   "cell_type": "code",
   "execution_count": null,
   "id": "df0006b8",
   "metadata": {},
   "outputs": [],
   "source": []
  },
  {
   "cell_type": "markdown",
   "id": "c3c31026",
   "metadata": {},
   "source": [
    "Task 4. Draw scatter plot to visualize PC - churn_df relations"
   ]
  },
  {
   "cell_type": "code",
   "execution_count": null,
   "id": "42cc5137",
   "metadata": {},
   "outputs": [],
   "source": []
  },
  {
   "cell_type": "code",
   "execution_count": null,
   "id": "b44b175e",
   "metadata": {},
   "outputs": [],
   "source": []
  },
  {
   "cell_type": "code",
   "execution_count": null,
   "id": "07befd97",
   "metadata": {},
   "outputs": [],
   "source": []
  }
 ],
 "metadata": {
  "kernelspec": {
   "display_name": "Python 3",
   "language": "python",
   "name": "python3"
  },
  "language_info": {
   "codemirror_mode": {
    "name": "ipython",
    "version": 3
   },
   "file_extension": ".py",
   "mimetype": "text/x-python",
   "name": "python",
   "nbconvert_exporter": "python",
   "pygments_lexer": "ipython3",
   "version": "3.8.10"
  }
 },
 "nbformat": 4,
 "nbformat_minor": 5
}

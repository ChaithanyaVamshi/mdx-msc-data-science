{
 "cells": [
  {
   "cell_type": "markdown",
   "metadata": {
    "_uuid": "1c72758fcdfddfdb9a54ac32f8382b9a46443c8d"
   },
   "source": [
    "## Attribute Information\n",
    "- 1. age \n",
    "- 2. sex (1 = male; 0 = female) \n",
    "- 3. chest pain type (4 values) \n",
    "  - 1: typical angina \n",
    "  - 2: atypical angina \n",
    "  - 3: non-anginal pain \n",
    "  - 4: asymptomatic \n",
    "- 4. resting blood pressure \n",
    "- 5. serum cholestoral in mg/dl \n",
    "- 6. fasting blood sugar > 120 mg/dl\n",
    "- 7. resting electrocardiographic results (values 0,1,2)\n",
    "  - 0: normal \n",
    "  - 1: having ST-T wave abnormality (T wave inversions and/or ST elevation or depression of > 0.05 mV) \n",
    "  - 2: showing probable or definite left ventricular hypertrophy by Estes' criteria \n",
    "- 8. maximum heart rate achieved \n",
    "- 9. exercise induced angina \n",
    "- 10. oldpeak = ST depression induced by exercise relative to rest \n",
    "- 11. the slope of the peak exercise ST segment \n",
    "- 12. number of major vessels (0-3) colored by flourosopy \n",
    "- 13. thal: 3 = normal; 6 = fixed defect; 7 = reversable defect\n",
    "- 14. target\n",
    "  - 0 - no heart disease\n",
    "  - 1 - heart disease"
   ]
  },
  {
   "cell_type": "code",
   "execution_count": 1,
   "metadata": {},
   "outputs": [],
   "source": [
    "filename = 'heart_disease_uci.csv'"
   ]
  },
  {
   "cell_type": "code",
   "execution_count": 2,
   "metadata": {},
   "outputs": [],
   "source": [
    "#https://archive.ics.uci.edu/ml/datasets/Heart+Disease\n",
    "\n",
    "#Don't think too much about the getDataset method. It is used for convenience\n",
    "def getDataset(filename, **kwargs):\n",
    "    url = f'https://github.com/IvanReznikov/mdx-msc-data-science/raw/main/datasets/{filename}'\n",
    "    try:\n",
    "        import os\n",
    "        if filename not in os.listdir():\n",
    "            !pip install wget\n",
    "            import wget\n",
    "            downloaded_filename = wget.download(url)\n",
    "            print(f'{downloaded_filename} file downloaded')\n",
    "        else:\n",
    "            print(f'{filename} already exists')\n",
    "        return pd.read_csv(filename, **kwargs)\n",
    "        \n",
    "    except Exception as e:\n",
    "        print(e)\n",
    "        return pd.read_csv(url, **kwargs)"
   ]
  },
  {
   "cell_type": "code",
   "execution_count": 3,
   "metadata": {
    "_cell_guid": "b1076dfc-b9ad-4769-8c92-a6c4dae69d19",
    "_uuid": "8f2839f25d086af736a60e9eeb907d3b93b6e0e5"
   },
   "outputs": [],
   "source": [
    "#Import python packages\n",
    "import numpy as np \n",
    "import pandas as pd \n",
    "import seaborn as sns\n",
    "import matplotlib.pyplot as plt\n",
    "from sklearn.model_selection import train_test_split # Import train_test_split function\n",
    "from sklearn.svm import SVC  #Import svm model\n",
    "from sklearn.metrics import confusion_matrix"
   ]
  },
  {
   "cell_type": "code",
   "execution_count": 4,
   "metadata": {
    "_cell_guid": "79c7e3d0-c299-4dcb-8224-4455121ee9b0",
    "_uuid": "d629ff2d2480ee46fbb7e2d37f6b5fab8052498a"
   },
   "outputs": [
    {
     "name": "stdout",
     "output_type": "stream",
     "text": [
      "heart_disease_uci.csv already exists\n"
     ]
    }
   ],
   "source": [
    "#Import the heart data\n",
    "data = getDataset(filename)"
   ]
  },
  {
   "cell_type": "code",
   "execution_count": 5,
   "metadata": {},
   "outputs": [],
   "source": [
    "#Display first 5 lines of heart data\n"
   ]
  },
  {
   "cell_type": "code",
   "execution_count": 6,
   "metadata": {
    "_uuid": "76e17c7cb1c7792ccbe0c85385c20fda7a884c1c"
   },
   "outputs": [],
   "source": [
    "#Display basic statistics of data\n"
   ]
  },
  {
   "cell_type": "code",
   "execution_count": 7,
   "metadata": {
    "_uuid": "4299dbe32c0a91dee5785111337d808010114b4b"
   },
   "outputs": [
    {
     "data": {
      "text/plain": [
       "'\\nx = ...\\ny = ...\\n'"
      ]
     },
     "execution_count": 7,
     "metadata": {},
     "output_type": "execute_result"
    }
   ],
   "source": [
    "#Separate Feature and Target Matrix\n",
    "'''\n",
    "x = ...\n",
    "y = ...\n",
    "'''"
   ]
  },
  {
   "cell_type": "code",
   "execution_count": 8,
   "metadata": {
    "_uuid": "075d51683e3f233492d25b171081b82abe3bc9d4"
   },
   "outputs": [
    {
     "data": {
      "text/plain": [
       "'\\nx_train, x_test, y_train, y_test = ...\\n'"
      ]
     },
     "execution_count": 8,
     "metadata": {},
     "output_type": "execute_result"
    }
   ],
   "source": [
    "# Split dataset into training set and test set\n",
    "'''\n",
    "x_train, x_test, y_train, y_test = ...\n",
    "'''\n"
   ]
  },
  {
   "cell_type": "markdown",
   "metadata": {
    "_uuid": "7d8fd1ab709864fe2e4f092aa2198a3d27a0647f"
   },
   "source": [
    "**Training and Testing the Machine Learning Model - SVM (Support Vector Machines)**"
   ]
  },
  {
   "cell_type": "code",
   "execution_count": 9,
   "metadata": {
    "_uuid": "17a462bb6824c79d658362093d833c6fd0d14ee1"
   },
   "outputs": [
    {
     "data": {
      "text/plain": [
       "'\\ny_pred = ...\\n'"
      ]
     },
     "execution_count": 9,
     "metadata": {},
     "output_type": "execute_result"
    }
   ],
   "source": [
    "#Create a svm Classifier with Linear Kernel\n",
    "'''\n",
    "ml = ...\n",
    "'''\n",
    "\n",
    "#Train the model using the training sets\n",
    "\n",
    "\n",
    "#Predict the response for test dataset\n",
    "'''\n",
    "y_pred = ...\n",
    "'''"
   ]
  },
  {
   "cell_type": "code",
   "execution_count": 10,
   "metadata": {
    "_uuid": "6f0fb9cf18d7e52b8cb97fede281f1dcfe8fea80"
   },
   "outputs": [],
   "source": [
    "# Model Accuracy: how often is the classifier correct?\n"
   ]
  },
  {
   "cell_type": "markdown",
   "metadata": {},
   "source": [
    "Calculatate confusion matrix\n",
    "<br>TP  FP\n",
    "<br>FN  TN "
   ]
  },
  {
   "cell_type": "code",
   "execution_count": 11,
   "metadata": {},
   "outputs": [],
   "source": [
    "# Display confusion matrix\n"
   ]
  },
  {
   "cell_type": "markdown",
   "metadata": {},
   "source": [
    "**Fill the following result section:** \n",
    "* {} patients were predicted that they **will** have Heart Disease,the Prediction was CORRECT (True-Positive)\n",
    "* {} patients were predicted that they **will NOT** have Heart Disease,the Prediction was CORRECT (True-Negative)\n",
    "* {} patients were predicted that they **will** have Heart Disease but the Prediction was WRONG (False-Positive)\n",
    "* {} patients were predicted that they **will NOT** have Heart Disease but the Prediction was WRONG (False-Negative)"
   ]
  },
  {
   "cell_type": "markdown",
   "metadata": {},
   "source": [
    "*What metric would you use to describe results?*"
   ]
  },
  {
   "cell_type": "markdown",
   "metadata": {},
   "source": [
    "## Additional improvements"
   ]
  },
  {
   "cell_type": "code",
   "execution_count": 12,
   "metadata": {},
   "outputs": [],
   "source": [
    "#Display basic info about the data. Can feature processing potentially increase results?"
   ]
  },
  {
   "cell_type": "code",
   "execution_count": 13,
   "metadata": {},
   "outputs": [],
   "source": [
    "#How will hyperparameter tuning perform?"
   ]
  },
  {
   "cell_type": "code",
   "execution_count": 14,
   "metadata": {},
   "outputs": [],
   "source": [
    "#Any other ideas how you may increase results"
   ]
  }
 ],
 "metadata": {
  "kernelspec": {
   "display_name": "Python 3 (ipykernel)",
   "language": "python",
   "name": "python3"
  },
  "language_info": {
   "codemirror_mode": {
    "name": "ipython",
    "version": 3
   },
   "file_extension": ".py",
   "mimetype": "text/x-python",
   "name": "python",
   "nbconvert_exporter": "python",
   "pygments_lexer": "ipython3",
   "version": "3.8.10"
  }
 },
 "nbformat": 4,
 "nbformat_minor": 1
}

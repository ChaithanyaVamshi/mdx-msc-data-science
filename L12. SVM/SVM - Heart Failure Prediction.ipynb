{
 "cells": [
  {
   "cell_type": "code",
   "execution_count": 1,
   "metadata": {
    "_cell_guid": "b1076dfc-b9ad-4769-8c92-a6c4dae69d19",
    "_uuid": "8f2839f25d086af736a60e9eeb907d3b93b6e0e5",
    "execution": {
     "iopub.execute_input": "2020-08-29T13:24:50.194887Z",
     "iopub.status.busy": "2020-08-29T13:24:50.189262Z",
     "iopub.status.idle": "2020-08-29T13:24:52.718626Z",
     "shell.execute_reply": "2020-08-29T13:24:52.717733Z"
    },
    "papermill": {
     "duration": 2.545629,
     "end_time": "2020-08-29T13:24:52.718776",
     "exception": false,
     "start_time": "2020-08-29T13:24:50.173147",
     "status": "completed"
    },
    "tags": []
   },
   "outputs": [],
   "source": [
    "# Import the necessary packages\n",
    "\n",
    "import numpy as np\n",
    "import pandas as pd\n",
    "\n",
    "import seaborn as sns\n",
    "import matplotlib.pyplot as plt\n",
    "%matplotlib inline\n",
    "\n",
    "import sklearn\n",
    "from sklearn.metrics import accuracy_score\n",
    "from sklearn.preprocessing import StandardScaler\n",
    "from sklearn.metrics import plot_confusion_matrix\n",
    "from sklearn.model_selection import train_test_split, GridSearchCV, cross_val_score\n",
    "from sklearn.metrics import f1_score, recall_score, precision_score, confusion_matrix\n",
    "from sklearn.metrics import r2_score, roc_auc_score, roc_curve, classification_report\n",
    "from sklearn.svm import SVC \n",
    "\n",
    "import warnings\n",
    "warnings.filterwarnings('ignore')"
   ]
  },
  {
   "cell_type": "code",
   "execution_count": 2,
   "metadata": {},
   "outputs": [],
   "source": [
    "filename = 'heart_failure_clinical_records_dataset.csv'"
   ]
  },
  {
   "cell_type": "code",
   "execution_count": 3,
   "metadata": {},
   "outputs": [],
   "source": [
    "#https://www.kaggle.com/andrewmvd/heart-failure-clinical-data\n",
    "\n",
    "#Don't think too much about the getDataset method. It is used for convenience\n",
    "def getDataset(filename, **kwargs):\n",
    "    url = f'https://github.com/IvanReznikov/mdx-msc-data-science/raw/main/datasets/{filename}'\n",
    "    try:\n",
    "        import os\n",
    "        if filename not in os.listdir():\n",
    "            !pip install wget\n",
    "            import wget\n",
    "            downloaded_filename = wget.download(url)\n",
    "            print(f'{downloaded_filename} file downloaded')\n",
    "        else:\n",
    "            print(f'{filename} already exists')\n",
    "        return pd.read_csv(filename, **kwargs)\n",
    "        \n",
    "    except Exception as e:\n",
    "        print(e)\n",
    "        return pd.read_csv(url, **kwargs)"
   ]
  },
  {
   "cell_type": "code",
   "execution_count": 4,
   "metadata": {
    "_cell_guid": "79c7e3d0-c299-4dcb-8224-4455121ee9b0",
    "_uuid": "d629ff2d2480ee46fbb7e2d37f6b5fab8052498a",
    "execution": {
     "iopub.execute_input": "2020-08-29T13:24:52.746502Z",
     "iopub.status.busy": "2020-08-29T13:24:52.745719Z",
     "iopub.status.idle": "2020-08-29T13:24:52.792111Z",
     "shell.execute_reply": "2020-08-29T13:24:52.792719Z"
    },
    "papermill": {
     "duration": 0.066399,
     "end_time": "2020-08-29T13:24:52.792883",
     "exception": false,
     "start_time": "2020-08-29T13:24:52.726484",
     "status": "completed"
    },
    "tags": []
   },
   "outputs": [
    {
     "name": "stdout",
     "output_type": "stream",
     "text": [
      "heart_failure_clinical_records_dataset.csv already exists\n"
     ]
    },
    {
     "data": {
      "text/html": [
       "<div>\n",
       "<style scoped>\n",
       "    .dataframe tbody tr th:only-of-type {\n",
       "        vertical-align: middle;\n",
       "    }\n",
       "\n",
       "    .dataframe tbody tr th {\n",
       "        vertical-align: top;\n",
       "    }\n",
       "\n",
       "    .dataframe thead th {\n",
       "        text-align: right;\n",
       "    }\n",
       "</style>\n",
       "<table border=\"1\" class=\"dataframe\">\n",
       "  <thead>\n",
       "    <tr style=\"text-align: right;\">\n",
       "      <th></th>\n",
       "      <th>age</th>\n",
       "      <th>anaemia</th>\n",
       "      <th>creatinine_phosphokinase</th>\n",
       "      <th>diabetes</th>\n",
       "      <th>ejection_fraction</th>\n",
       "      <th>high_blood_pressure</th>\n",
       "      <th>platelets</th>\n",
       "      <th>serum_creatinine</th>\n",
       "      <th>serum_sodium</th>\n",
       "      <th>sex</th>\n",
       "      <th>smoking</th>\n",
       "      <th>time</th>\n",
       "      <th>DEATH_EVENT</th>\n",
       "    </tr>\n",
       "  </thead>\n",
       "  <tbody>\n",
       "    <tr>\n",
       "      <th>0</th>\n",
       "      <td>75.0</td>\n",
       "      <td>0</td>\n",
       "      <td>582</td>\n",
       "      <td>0</td>\n",
       "      <td>20</td>\n",
       "      <td>1</td>\n",
       "      <td>265000.00</td>\n",
       "      <td>1.9</td>\n",
       "      <td>130</td>\n",
       "      <td>1</td>\n",
       "      <td>0</td>\n",
       "      <td>4</td>\n",
       "      <td>1</td>\n",
       "    </tr>\n",
       "    <tr>\n",
       "      <th>1</th>\n",
       "      <td>55.0</td>\n",
       "      <td>0</td>\n",
       "      <td>7861</td>\n",
       "      <td>0</td>\n",
       "      <td>38</td>\n",
       "      <td>0</td>\n",
       "      <td>263358.03</td>\n",
       "      <td>1.1</td>\n",
       "      <td>136</td>\n",
       "      <td>1</td>\n",
       "      <td>0</td>\n",
       "      <td>6</td>\n",
       "      <td>1</td>\n",
       "    </tr>\n",
       "    <tr>\n",
       "      <th>2</th>\n",
       "      <td>65.0</td>\n",
       "      <td>0</td>\n",
       "      <td>146</td>\n",
       "      <td>0</td>\n",
       "      <td>20</td>\n",
       "      <td>0</td>\n",
       "      <td>162000.00</td>\n",
       "      <td>1.3</td>\n",
       "      <td>129</td>\n",
       "      <td>1</td>\n",
       "      <td>1</td>\n",
       "      <td>7</td>\n",
       "      <td>1</td>\n",
       "    </tr>\n",
       "    <tr>\n",
       "      <th>3</th>\n",
       "      <td>50.0</td>\n",
       "      <td>1</td>\n",
       "      <td>111</td>\n",
       "      <td>0</td>\n",
       "      <td>20</td>\n",
       "      <td>0</td>\n",
       "      <td>210000.00</td>\n",
       "      <td>1.9</td>\n",
       "      <td>137</td>\n",
       "      <td>1</td>\n",
       "      <td>0</td>\n",
       "      <td>7</td>\n",
       "      <td>1</td>\n",
       "    </tr>\n",
       "    <tr>\n",
       "      <th>4</th>\n",
       "      <td>65.0</td>\n",
       "      <td>1</td>\n",
       "      <td>160</td>\n",
       "      <td>1</td>\n",
       "      <td>20</td>\n",
       "      <td>0</td>\n",
       "      <td>327000.00</td>\n",
       "      <td>2.7</td>\n",
       "      <td>116</td>\n",
       "      <td>0</td>\n",
       "      <td>0</td>\n",
       "      <td>8</td>\n",
       "      <td>1</td>\n",
       "    </tr>\n",
       "    <tr>\n",
       "      <th>5</th>\n",
       "      <td>90.0</td>\n",
       "      <td>1</td>\n",
       "      <td>47</td>\n",
       "      <td>0</td>\n",
       "      <td>40</td>\n",
       "      <td>1</td>\n",
       "      <td>204000.00</td>\n",
       "      <td>2.1</td>\n",
       "      <td>132</td>\n",
       "      <td>1</td>\n",
       "      <td>1</td>\n",
       "      <td>8</td>\n",
       "      <td>1</td>\n",
       "    </tr>\n",
       "    <tr>\n",
       "      <th>6</th>\n",
       "      <td>75.0</td>\n",
       "      <td>1</td>\n",
       "      <td>246</td>\n",
       "      <td>0</td>\n",
       "      <td>15</td>\n",
       "      <td>0</td>\n",
       "      <td>127000.00</td>\n",
       "      <td>1.2</td>\n",
       "      <td>137</td>\n",
       "      <td>1</td>\n",
       "      <td>0</td>\n",
       "      <td>10</td>\n",
       "      <td>1</td>\n",
       "    </tr>\n",
       "    <tr>\n",
       "      <th>7</th>\n",
       "      <td>60.0</td>\n",
       "      <td>1</td>\n",
       "      <td>315</td>\n",
       "      <td>1</td>\n",
       "      <td>60</td>\n",
       "      <td>0</td>\n",
       "      <td>454000.00</td>\n",
       "      <td>1.1</td>\n",
       "      <td>131</td>\n",
       "      <td>1</td>\n",
       "      <td>1</td>\n",
       "      <td>10</td>\n",
       "      <td>1</td>\n",
       "    </tr>\n",
       "    <tr>\n",
       "      <th>8</th>\n",
       "      <td>65.0</td>\n",
       "      <td>0</td>\n",
       "      <td>157</td>\n",
       "      <td>0</td>\n",
       "      <td>65</td>\n",
       "      <td>0</td>\n",
       "      <td>263358.03</td>\n",
       "      <td>1.5</td>\n",
       "      <td>138</td>\n",
       "      <td>0</td>\n",
       "      <td>0</td>\n",
       "      <td>10</td>\n",
       "      <td>1</td>\n",
       "    </tr>\n",
       "    <tr>\n",
       "      <th>9</th>\n",
       "      <td>80.0</td>\n",
       "      <td>1</td>\n",
       "      <td>123</td>\n",
       "      <td>0</td>\n",
       "      <td>35</td>\n",
       "      <td>1</td>\n",
       "      <td>388000.00</td>\n",
       "      <td>9.4</td>\n",
       "      <td>133</td>\n",
       "      <td>1</td>\n",
       "      <td>1</td>\n",
       "      <td>10</td>\n",
       "      <td>1</td>\n",
       "    </tr>\n",
       "  </tbody>\n",
       "</table>\n",
       "</div>"
      ],
      "text/plain": [
       "    age  anaemia  creatinine_phosphokinase  diabetes  ejection_fraction  \\\n",
       "0  75.0        0                       582         0                 20   \n",
       "1  55.0        0                      7861         0                 38   \n",
       "2  65.0        0                       146         0                 20   \n",
       "3  50.0        1                       111         0                 20   \n",
       "4  65.0        1                       160         1                 20   \n",
       "5  90.0        1                        47         0                 40   \n",
       "6  75.0        1                       246         0                 15   \n",
       "7  60.0        1                       315         1                 60   \n",
       "8  65.0        0                       157         0                 65   \n",
       "9  80.0        1                       123         0                 35   \n",
       "\n",
       "   high_blood_pressure  platelets  serum_creatinine  serum_sodium  sex  \\\n",
       "0                    1  265000.00               1.9           130    1   \n",
       "1                    0  263358.03               1.1           136    1   \n",
       "2                    0  162000.00               1.3           129    1   \n",
       "3                    0  210000.00               1.9           137    1   \n",
       "4                    0  327000.00               2.7           116    0   \n",
       "5                    1  204000.00               2.1           132    1   \n",
       "6                    0  127000.00               1.2           137    1   \n",
       "7                    0  454000.00               1.1           131    1   \n",
       "8                    0  263358.03               1.5           138    0   \n",
       "9                    1  388000.00               9.4           133    1   \n",
       "\n",
       "   smoking  time  DEATH_EVENT  \n",
       "0        0     4            1  \n",
       "1        0     6            1  \n",
       "2        1     7            1  \n",
       "3        0     7            1  \n",
       "4        0     8            1  \n",
       "5        1     8            1  \n",
       "6        0    10            1  \n",
       "7        1    10            1  \n",
       "8        0    10            1  \n",
       "9        1    10            1  "
      ]
     },
     "execution_count": 4,
     "metadata": {},
     "output_type": "execute_result"
    }
   ],
   "source": [
    "# Import and read dataset\n",
    "data = getDataset(filename)\n",
    "df = data.copy()\n",
    "\n",
    "data.head(10)"
   ]
  },
  {
   "cell_type": "code",
   "execution_count": 5,
   "metadata": {
    "execution": {
     "iopub.execute_input": "2020-08-29T13:24:52.824724Z",
     "iopub.status.busy": "2020-08-29T13:24:52.823850Z",
     "iopub.status.idle": "2020-08-29T13:24:52.875538Z",
     "shell.execute_reply": "2020-08-29T13:24:52.874923Z"
    },
    "papermill": {
     "duration": 0.074627,
     "end_time": "2020-08-29T13:24:52.875676",
     "exception": false,
     "start_time": "2020-08-29T13:24:52.801049",
     "status": "completed"
    },
    "tags": []
   },
   "outputs": [
    {
     "data": {
      "text/html": [
       "<div>\n",
       "<style scoped>\n",
       "    .dataframe tbody tr th:only-of-type {\n",
       "        vertical-align: middle;\n",
       "    }\n",
       "\n",
       "    .dataframe tbody tr th {\n",
       "        vertical-align: top;\n",
       "    }\n",
       "\n",
       "    .dataframe thead th {\n",
       "        text-align: right;\n",
       "    }\n",
       "</style>\n",
       "<table border=\"1\" class=\"dataframe\">\n",
       "  <thead>\n",
       "    <tr style=\"text-align: right;\">\n",
       "      <th></th>\n",
       "      <th>age</th>\n",
       "      <th>anaemia</th>\n",
       "      <th>creatinine_phosphokinase</th>\n",
       "      <th>diabetes</th>\n",
       "      <th>ejection_fraction</th>\n",
       "      <th>high_blood_pressure</th>\n",
       "      <th>platelets</th>\n",
       "      <th>serum_creatinine</th>\n",
       "      <th>serum_sodium</th>\n",
       "      <th>sex</th>\n",
       "      <th>smoking</th>\n",
       "      <th>time</th>\n",
       "      <th>DEATH_EVENT</th>\n",
       "    </tr>\n",
       "  </thead>\n",
       "  <tbody>\n",
       "    <tr>\n",
       "      <th>count</th>\n",
       "      <td>299.000000</td>\n",
       "      <td>299.000000</td>\n",
       "      <td>299.000000</td>\n",
       "      <td>299.000000</td>\n",
       "      <td>299.000000</td>\n",
       "      <td>299.000000</td>\n",
       "      <td>299.000000</td>\n",
       "      <td>299.00000</td>\n",
       "      <td>299.000000</td>\n",
       "      <td>299.000000</td>\n",
       "      <td>299.00000</td>\n",
       "      <td>299.000000</td>\n",
       "      <td>299.00000</td>\n",
       "    </tr>\n",
       "    <tr>\n",
       "      <th>mean</th>\n",
       "      <td>60.833893</td>\n",
       "      <td>0.431438</td>\n",
       "      <td>581.839465</td>\n",
       "      <td>0.418060</td>\n",
       "      <td>38.083612</td>\n",
       "      <td>0.351171</td>\n",
       "      <td>263358.029264</td>\n",
       "      <td>1.39388</td>\n",
       "      <td>136.625418</td>\n",
       "      <td>0.648829</td>\n",
       "      <td>0.32107</td>\n",
       "      <td>130.260870</td>\n",
       "      <td>0.32107</td>\n",
       "    </tr>\n",
       "    <tr>\n",
       "      <th>std</th>\n",
       "      <td>11.894809</td>\n",
       "      <td>0.496107</td>\n",
       "      <td>970.287881</td>\n",
       "      <td>0.494067</td>\n",
       "      <td>11.834841</td>\n",
       "      <td>0.478136</td>\n",
       "      <td>97804.236869</td>\n",
       "      <td>1.03451</td>\n",
       "      <td>4.412477</td>\n",
       "      <td>0.478136</td>\n",
       "      <td>0.46767</td>\n",
       "      <td>77.614208</td>\n",
       "      <td>0.46767</td>\n",
       "    </tr>\n",
       "    <tr>\n",
       "      <th>min</th>\n",
       "      <td>40.000000</td>\n",
       "      <td>0.000000</td>\n",
       "      <td>23.000000</td>\n",
       "      <td>0.000000</td>\n",
       "      <td>14.000000</td>\n",
       "      <td>0.000000</td>\n",
       "      <td>25100.000000</td>\n",
       "      <td>0.50000</td>\n",
       "      <td>113.000000</td>\n",
       "      <td>0.000000</td>\n",
       "      <td>0.00000</td>\n",
       "      <td>4.000000</td>\n",
       "      <td>0.00000</td>\n",
       "    </tr>\n",
       "    <tr>\n",
       "      <th>25%</th>\n",
       "      <td>51.000000</td>\n",
       "      <td>0.000000</td>\n",
       "      <td>116.500000</td>\n",
       "      <td>0.000000</td>\n",
       "      <td>30.000000</td>\n",
       "      <td>0.000000</td>\n",
       "      <td>212500.000000</td>\n",
       "      <td>0.90000</td>\n",
       "      <td>134.000000</td>\n",
       "      <td>0.000000</td>\n",
       "      <td>0.00000</td>\n",
       "      <td>73.000000</td>\n",
       "      <td>0.00000</td>\n",
       "    </tr>\n",
       "    <tr>\n",
       "      <th>50%</th>\n",
       "      <td>60.000000</td>\n",
       "      <td>0.000000</td>\n",
       "      <td>250.000000</td>\n",
       "      <td>0.000000</td>\n",
       "      <td>38.000000</td>\n",
       "      <td>0.000000</td>\n",
       "      <td>262000.000000</td>\n",
       "      <td>1.10000</td>\n",
       "      <td>137.000000</td>\n",
       "      <td>1.000000</td>\n",
       "      <td>0.00000</td>\n",
       "      <td>115.000000</td>\n",
       "      <td>0.00000</td>\n",
       "    </tr>\n",
       "    <tr>\n",
       "      <th>75%</th>\n",
       "      <td>70.000000</td>\n",
       "      <td>1.000000</td>\n",
       "      <td>582.000000</td>\n",
       "      <td>1.000000</td>\n",
       "      <td>45.000000</td>\n",
       "      <td>1.000000</td>\n",
       "      <td>303500.000000</td>\n",
       "      <td>1.40000</td>\n",
       "      <td>140.000000</td>\n",
       "      <td>1.000000</td>\n",
       "      <td>1.00000</td>\n",
       "      <td>203.000000</td>\n",
       "      <td>1.00000</td>\n",
       "    </tr>\n",
       "    <tr>\n",
       "      <th>max</th>\n",
       "      <td>95.000000</td>\n",
       "      <td>1.000000</td>\n",
       "      <td>7861.000000</td>\n",
       "      <td>1.000000</td>\n",
       "      <td>80.000000</td>\n",
       "      <td>1.000000</td>\n",
       "      <td>850000.000000</td>\n",
       "      <td>9.40000</td>\n",
       "      <td>148.000000</td>\n",
       "      <td>1.000000</td>\n",
       "      <td>1.00000</td>\n",
       "      <td>285.000000</td>\n",
       "      <td>1.00000</td>\n",
       "    </tr>\n",
       "  </tbody>\n",
       "</table>\n",
       "</div>"
      ],
      "text/plain": [
       "              age     anaemia  creatinine_phosphokinase    diabetes  \\\n",
       "count  299.000000  299.000000                299.000000  299.000000   \n",
       "mean    60.833893    0.431438                581.839465    0.418060   \n",
       "std     11.894809    0.496107                970.287881    0.494067   \n",
       "min     40.000000    0.000000                 23.000000    0.000000   \n",
       "25%     51.000000    0.000000                116.500000    0.000000   \n",
       "50%     60.000000    0.000000                250.000000    0.000000   \n",
       "75%     70.000000    1.000000                582.000000    1.000000   \n",
       "max     95.000000    1.000000               7861.000000    1.000000   \n",
       "\n",
       "       ejection_fraction  high_blood_pressure      platelets  \\\n",
       "count         299.000000           299.000000     299.000000   \n",
       "mean           38.083612             0.351171  263358.029264   \n",
       "std            11.834841             0.478136   97804.236869   \n",
       "min            14.000000             0.000000   25100.000000   \n",
       "25%            30.000000             0.000000  212500.000000   \n",
       "50%            38.000000             0.000000  262000.000000   \n",
       "75%            45.000000             1.000000  303500.000000   \n",
       "max            80.000000             1.000000  850000.000000   \n",
       "\n",
       "       serum_creatinine  serum_sodium         sex    smoking        time  \\\n",
       "count         299.00000    299.000000  299.000000  299.00000  299.000000   \n",
       "mean            1.39388    136.625418    0.648829    0.32107  130.260870   \n",
       "std             1.03451      4.412477    0.478136    0.46767   77.614208   \n",
       "min             0.50000    113.000000    0.000000    0.00000    4.000000   \n",
       "25%             0.90000    134.000000    0.000000    0.00000   73.000000   \n",
       "50%             1.10000    137.000000    1.000000    0.00000  115.000000   \n",
       "75%             1.40000    140.000000    1.000000    1.00000  203.000000   \n",
       "max             9.40000    148.000000    1.000000    1.00000  285.000000   \n",
       "\n",
       "       DEATH_EVENT  \n",
       "count    299.00000  \n",
       "mean       0.32107  \n",
       "std        0.46767  \n",
       "min        0.00000  \n",
       "25%        0.00000  \n",
       "50%        0.00000  \n",
       "75%        1.00000  \n",
       "max        1.00000  "
      ]
     },
     "execution_count": 5,
     "metadata": {},
     "output_type": "execute_result"
    }
   ],
   "source": [
    "data.describe()"
   ]
  },
  {
   "cell_type": "code",
   "execution_count": 6,
   "metadata": {
    "execution": {
     "iopub.execute_input": "2020-08-29T13:24:52.907672Z",
     "iopub.status.busy": "2020-08-29T13:24:52.904447Z",
     "iopub.status.idle": "2020-08-29T13:24:52.913423Z",
     "shell.execute_reply": "2020-08-29T13:24:52.912657Z"
    },
    "papermill": {
     "duration": 0.02954,
     "end_time": "2020-08-29T13:24:52.913556",
     "exception": false,
     "start_time": "2020-08-29T13:24:52.884016",
     "status": "completed"
    },
    "tags": []
   },
   "outputs": [
    {
     "name": "stdout",
     "output_type": "stream",
     "text": [
      "X_train Shape :  (224, 12)\n",
      "X_test Shape  :  (75, 12)\n",
      "y_train Shape :  (224,)\n",
      "y_test Shape  :  (75,)\n"
     ]
    }
   ],
   "source": [
    "inp_data = data.drop(data[['DEATH_EVENT']], axis=1)\n",
    "out_data = data[['DEATH_EVENT']]\n",
    "\n",
    "scaler = StandardScaler()\n",
    "inp_data = scaler.fit_transform(inp_data)\n",
    "\n",
    "X_train, X_test, y_train, y_test = train_test_split(inp_data, out_data, test_size=0.25, random_state=42)\n",
    "y_train = y_train.values.ravel()\n",
    "y_test = y_test.values.ravel()\n",
    "\n",
    "print(\"X_train Shape : \", X_train.shape)\n",
    "print(\"X_test Shape  : \", X_test.shape)\n",
    "print(\"y_train Shape : \", y_train.shape)\n",
    "print(\"y_test Shape  : \", y_test.shape)"
   ]
  },
  {
   "cell_type": "code",
   "execution_count": 7,
   "metadata": {
    "execution": {
     "iopub.execute_input": "2020-08-29T13:24:52.985480Z",
     "iopub.status.busy": "2020-08-29T13:24:52.984453Z",
     "iopub.status.idle": "2020-08-29T13:24:53.015130Z",
     "shell.execute_reply": "2020-08-29T13:24:53.014476Z"
    },
    "papermill": {
     "duration": 0.0517,
     "end_time": "2020-08-29T13:24:53.015319",
     "exception": false,
     "start_time": "2020-08-29T13:24:52.963619",
     "status": "completed"
    },
    "tags": []
   },
   "outputs": [
    {
     "name": "stdout",
     "output_type": "stream",
     "text": [
      "Accuracy Score: 0.7333\n",
      "SVC f1-score  : 0.6000\n",
      "SVC precision : 0.4839\n",
      "SVC recall    : 0.7895\n",
      "\n",
      "               precision    recall  f1-score   support\n",
      "\n",
      "           0       0.91      0.71      0.80        56\n",
      "           1       0.48      0.79      0.60        19\n",
      "\n",
      "    accuracy                           0.73        75\n",
      "   macro avg       0.70      0.75      0.70        75\n",
      "weighted avg       0.80      0.73      0.75        75\n",
      "\n"
     ]
    }
   ],
   "source": [
    "# basic method\n",
    "clf = SVC() \n",
    "clf.fit(X_train, y_train) \n",
    "\n",
    "y_pred = clf.predict(X_test)\n",
    "\n",
    "print('Accuracy Score: {:.4f}'.format(accuracy_score(y_test, y_pred)))\n",
    "print('SVC f1-score  : {:.4f}'.format(f1_score(y_pred, y_test)))\n",
    "print('SVC precision : {:.4f}'.format(precision_score(y_pred, y_test)))\n",
    "print('SVC recall    : {:.4f}'.format(recall_score(y_pred, y_test)))\n",
    "print(\"\\n\",classification_report(y_pred, y_test))"
   ]
  },
  {
   "cell_type": "markdown",
   "metadata": {},
   "source": [
    "Calculatate confusion matrix\n",
    "<br>TP  FP\n",
    "<br>FN  TN "
   ]
  },
  {
   "cell_type": "code",
   "execution_count": 8,
   "metadata": {},
   "outputs": [
    {
     "data": {
      "text/plain": [
       "<AxesSubplot:>"
      ]
     },
     "execution_count": 8,
     "metadata": {},
     "output_type": "execute_result"
    },
    {
     "data": {
      "image/png": "[encoded data removed]",
      "text/plain": [
       "<Figure size 432x288 with 2 Axes>"
      ]
     },
     "metadata": {
      "needs_background": "light"
     },
     "output_type": "display_data"
    }
   ],
   "source": [
    "sns.heatmap(confusion_matrix(y_test,y_pred), annot = True)"
   ]
  },
  {
   "cell_type": "code",
   "execution_count": 9,
   "metadata": {
    "execution": {
     "iopub.execute_input": "2020-08-29T13:24:53.050819Z",
     "iopub.status.busy": "2020-08-29T13:24:53.048076Z",
     "iopub.status.idle": "2020-08-29T13:28:29.890000Z",
     "shell.execute_reply": "2020-08-29T13:28:29.890629Z"
    },
    "papermill": {
     "duration": 216.865073,
     "end_time": "2020-08-29T13:28:29.890806",
     "exception": false,
     "start_time": "2020-08-29T13:24:53.025733",
     "status": "completed"
    },
    "scrolled": false,
    "tags": []
   },
   "outputs": [
    {
     "data": {
      "text/plain": [
       "{'C': 0.1, 'gamma': 0.1, 'kernel': 'linear'}"
      ]
     },
     "execution_count": 9,
     "metadata": {},
     "output_type": "execute_result"
    }
   ],
   "source": [
    "# find best parameters with SVC | Step 1\n",
    "kernels = list(['linear', 'rbf', 'poly', 'sigmoid'])\n",
    "c = list([0.001, 0.01, 0.1, 1, 10, 100, 1000])\n",
    "gammas = list([0.1, 1, 10, 100])\n",
    "\n",
    "clf = SVC()\n",
    "clf.fit(X_train, y_train) \n",
    "param_grid = dict(kernel=kernels, C=c, gamma=gammas)\n",
    "grid = GridSearchCV(clf, param_grid, cv=10, n_jobs=-1)\n",
    "grid.fit(X_train, y_train)\n",
    "grid.best_params_"
   ]
  },
  {
   "cell_type": "code",
   "execution_count": 10,
   "metadata": {
    "execution": {
     "iopub.execute_input": "2020-08-29T13:28:29.919221Z",
     "iopub.status.busy": "2020-08-29T13:28:29.918405Z",
     "iopub.status.idle": "2020-08-29T13:28:29.943769Z",
     "shell.execute_reply": "2020-08-29T13:28:29.942831Z"
    },
    "papermill": {
     "duration": 0.044077,
     "end_time": "2020-08-29T13:28:29.943943",
     "exception": false,
     "start_time": "2020-08-29T13:28:29.899866",
     "status": "completed"
    },
    "tags": []
   },
   "outputs": [
    {
     "name": "stdout",
     "output_type": "stream",
     "text": [
      "Accuracy Score: 0.7467\n",
      "SVC f1-score  : 0.6122\n",
      "SVC precision : 0.4839\n",
      "SVC recall    : 0.8333\n",
      "\n",
      "               precision    recall  f1-score   support\n",
      "\n",
      "           0       0.93      0.72      0.81        57\n",
      "           1       0.48      0.83      0.61        18\n",
      "\n",
      "    accuracy                           0.75        75\n",
      "   macro avg       0.71      0.78      0.71        75\n",
      "weighted avg       0.82      0.75      0.76        75\n",
      "\n"
     ]
    }
   ],
   "source": [
    "clf = SVC(C=0.1, gamma=0.1, kernel='linear') \n",
    "clf.fit(X_train, y_train) \n",
    "\n",
    "y_pred = clf.predict(X_test)\n",
    "\n",
    "print('Accuracy Score: {:.4f}'.format(accuracy_score(y_test, y_pred)))\n",
    "print('SVC f1-score  : {:.4f}'.format(f1_score(y_pred, y_test)))\n",
    "print('SVC precision : {:.4f}'.format(precision_score(y_pred, y_test)))\n",
    "print('SVC recall    : {:.4f}'.format(recall_score(y_pred, y_test)))\n",
    "print(\"\\n\",classification_report(y_pred, y_test))"
   ]
  },
  {
   "cell_type": "code",
   "execution_count": 11,
   "metadata": {},
   "outputs": [
    {
     "data": {
      "text/plain": [
       "<AxesSubplot:>"
      ]
     },
     "execution_count": 11,
     "metadata": {},
     "output_type": "execute_result"
    },
    {
     "data": {
      "image/png": "[encoded data removed]",
      "text/plain": [
       "<Figure size 432x288 with 2 Axes>"
      ]
     },
     "metadata": {
      "needs_background": "light"
     },
     "output_type": "display_data"
    }
   ],
   "source": [
    "sns.heatmap(confusion_matrix(y_test,y_pred), annot = True)"
   ]
  },
  {
   "cell_type": "code",
   "execution_count": 12,
   "metadata": {},
   "outputs": [
    {
     "data": {
      "text/plain": [
       "<AxesSubplot:>"
      ]
     },
     "execution_count": 12,
     "metadata": {},
     "output_type": "execute_result"
    },
    {
     "data": {
      "image/png": "[encoded data removed]",
      "text/plain": [
       "<Figure size 432x288 with 2 Axes>"
      ]
     },
     "metadata": {
      "needs_background": "light"
     },
     "output_type": "display_data"
    }
   ],
   "source": [
    "y_pred = clf.predict(X_test)\n",
    "\n",
    "cf_matrix = confusion_matrix(y_pred, y_test)\n",
    "sns.heatmap((cf_matrix / np.sum(cf_matrix)*100), annot = True, fmt=\".2f\", cmap=\"Blues\")"
   ]
  },
  {
   "cell_type": "code",
   "execution_count": 13,
   "metadata": {},
   "outputs": [
    {
     "data": {
      "text/plain": [
       "DEATH_EVENT\n",
       "0              203\n",
       "1               96\n",
       "dtype: int64"
      ]
     },
     "execution_count": 13,
     "metadata": {},
     "output_type": "execute_result"
    }
   ],
   "source": [
    "#As we face an imbalance dataset, we might consider using SMOTE\n",
    "out_data.value_counts()"
   ]
  },
  {
   "cell_type": "markdown",
   "metadata": {
    "papermill": {
     "duration": 0.008822,
     "end_time": "2020-08-29T13:28:36.587300",
     "exception": false,
     "start_time": "2020-08-29T13:28:36.578478",
     "status": "completed"
    },
    "tags": []
   },
   "source": [
    "## After the SMOTE (Synthetic Minority Oversampling Technique) process"
   ]
  },
  {
   "cell_type": "code",
   "execution_count": 14,
   "metadata": {
    "execution": {
     "iopub.execute_input": "2020-08-29T13:28:36.615072Z",
     "iopub.status.busy": "2020-08-29T13:28:36.614127Z",
     "iopub.status.idle": "2020-08-29T13:28:36.915441Z",
     "shell.execute_reply": "2020-08-29T13:28:36.914809Z"
    },
    "papermill": {
     "duration": 0.319105,
     "end_time": "2020-08-29T13:28:36.915577",
     "exception": false,
     "start_time": "2020-08-29T13:28:36.596472",
     "status": "completed"
    },
    "tags": []
   },
   "outputs": [
    {
     "name": "stdout",
     "output_type": "stream",
     "text": [
      "Requirement already satisfied: imblearn in /home/ivan/.local/lib/python3.8/site-packages (0.0)\n",
      "Requirement already satisfied: imbalanced-learn in /home/ivan/.local/lib/python3.8/site-packages (from imblearn) (0.8.1)\n",
      "Requirement already satisfied: scikit-learn>=0.24 in /home/ivan/.local/lib/python3.8/site-packages (from imbalanced-learn->imblearn) (1.0.1)\n",
      "Requirement already satisfied: joblib>=0.11 in /home/ivan/.local/lib/python3.8/site-packages (from imbalanced-learn->imblearn) (1.1.0)\n",
      "Requirement already satisfied: scipy>=0.19.1 in /home/ivan/.local/lib/python3.8/site-packages (from imbalanced-learn->imblearn) (1.7.3)\n",
      "Requirement already satisfied: numpy>=1.13.3 in /home/ivan/.local/lib/python3.8/site-packages (from imbalanced-learn->imblearn) (1.21.4)\n",
      "Requirement already satisfied: threadpoolctl>=2.0.0 in /home/ivan/.local/lib/python3.8/site-packages (from scikit-learn>=0.24->imbalanced-learn->imblearn) (3.0.0)\n",
      "X_train Shape :  (304, 12)\n",
      "X_test Shape  :  (102, 12)\n",
      "y_train Shape :  (304,)\n",
      "y_test Shape  :  (102,)\n"
     ]
    }
   ],
   "source": [
    "!pip install imblearn\n",
    "from imblearn.over_sampling import SMOTE\n",
    "\n",
    "sms = SMOTE(random_state=42)\n",
    "X_res, y_res = sms.fit_resample(inp_data, out_data)\n",
    "X_train, X_test, y_train, y_test = train_test_split(X_res, y_res, test_size=0.25, random_state=42)\n",
    "y_train = y_train.values.ravel()\n",
    "y_test = y_test.values.ravel()\n",
    "\n",
    "print(\"X_train Shape : \", X_train.shape)\n",
    "print(\"X_test Shape  : \", X_test.shape)\n",
    "print(\"y_train Shape : \", y_train.shape)\n",
    "print(\"y_test Shape  : \", y_test.shape)"
   ]
  },
  {
   "cell_type": "code",
   "execution_count": 15,
   "metadata": {},
   "outputs": [
    {
     "name": "stdout",
     "output_type": "stream",
     "text": [
      "Accuracy Score: 0.8627\n",
      "SVC f1-score  : 0.8704\n",
      "SVC precision : 0.9216\n",
      "SVC recall    : 0.8246\n",
      "\n",
      "               precision    recall  f1-score   support\n",
      "\n",
      "           0       0.80      0.91      0.85        45\n",
      "           1       0.92      0.82      0.87        57\n",
      "\n",
      "    accuracy                           0.86       102\n",
      "   macro avg       0.86      0.87      0.86       102\n",
      "weighted avg       0.87      0.86      0.86       102\n",
      "\n"
     ]
    }
   ],
   "source": [
    "# basic method\n",
    "clf = SVC() \n",
    "clf.fit(X_train, y_train) \n",
    "\n",
    "y_pred = clf.predict(X_test)\n",
    "\n",
    "print('Accuracy Score: {:.4f}'.format(accuracy_score(y_test, y_pred)))\n",
    "print('SVC f1-score  : {:.4f}'.format(f1_score(y_pred, y_test)))\n",
    "print('SVC precision : {:.4f}'.format(precision_score(y_pred, y_test)))\n",
    "print('SVC recall    : {:.4f}'.format(recall_score(y_pred, y_test)))\n",
    "print(\"\\n\",classification_report(y_pred, y_test))"
   ]
  },
  {
   "cell_type": "code",
   "execution_count": 16,
   "metadata": {},
   "outputs": [
    {
     "data": {
      "text/plain": [
       "<AxesSubplot:>"
      ]
     },
     "execution_count": 16,
     "metadata": {},
     "output_type": "execute_result"
    },
    {
     "data": {
      "image/png": "[encoded data removed]",
      "text/plain": [
       "<Figure size 432x288 with 2 Axes>"
      ]
     },
     "metadata": {
      "needs_background": "light"
     },
     "output_type": "display_data"
    }
   ],
   "source": [
    "sns.heatmap(confusion_matrix(y_test,y_pred), annot = True)"
   ]
  },
  {
   "cell_type": "code",
   "execution_count": 17,
   "metadata": {
    "execution": {
     "iopub.execute_input": "2020-08-29T13:28:36.946701Z",
     "iopub.status.busy": "2020-08-29T13:28:36.945869Z",
     "iopub.status.idle": "2020-08-29T13:29:12.517828Z",
     "shell.execute_reply": "2020-08-29T13:29:12.518445Z"
    },
    "papermill": {
     "duration": 35.593306,
     "end_time": "2020-08-29T13:29:12.518607",
     "exception": false,
     "start_time": "2020-08-29T13:28:36.925301",
     "status": "completed"
    },
    "tags": []
   },
   "outputs": [
    {
     "data": {
      "text/plain": [
       "{'C': 1, 'gamma': 0.1, 'kernel': 'rbf'}"
      ]
     },
     "execution_count": 17,
     "metadata": {},
     "output_type": "execute_result"
    }
   ],
   "source": [
    "# find best parameters with SVC | Step 1\n",
    "kernels = list(['linear', 'rbf', 'poly', 'sigmoid'])\n",
    "c = list([0.001, 0.01, 0.1, 1, 10, 100, 1000])\n",
    "gammas = list([0.1, 1, 10, 100])\n",
    "\n",
    "clf = SVC()\n",
    "param_grid = dict(kernel=kernels, C=c, gamma=gammas)\n",
    "grid = GridSearchCV(clf, param_grid, cv=10, n_jobs=-1)\n",
    "grid.fit(X_train, y_train)\n",
    "grid.best_params_"
   ]
  },
  {
   "cell_type": "code",
   "execution_count": 18,
   "metadata": {},
   "outputs": [
    {
     "data": {
      "text/plain": [
       "{'C': 5, 'gamma': 0.2, 'kernel': 'rbf'}"
      ]
     },
     "execution_count": 18,
     "metadata": {},
     "output_type": "execute_result"
    }
   ],
   "source": [
    "# find best parameters with SVC | Step 2\n",
    "kernels = list(['rbf'])\n",
    "c = list([0.5,1,2,3,4,5,6,7])\n",
    "gammas = list([0.05, 0.06, 0.07, 0.08, 0.09, 0.1, 0.2, 0.3, 0.4, 0.5, 0.6, 0.7, 0.8])\n",
    "\n",
    "clf = SVC()\n",
    "param_grid = dict(kernel=kernels, C=c, gamma=gammas)\n",
    "grid = GridSearchCV(clf, param_grid, cv=10, n_jobs=-1)\n",
    "grid.fit(X_train, y_train)\n",
    "grid.best_params_"
   ]
  },
  {
   "cell_type": "code",
   "execution_count": 19,
   "metadata": {
    "execution": {
     "iopub.execute_input": "2020-08-29T13:29:12.547740Z",
     "iopub.status.busy": "2020-08-29T13:29:12.546940Z",
     "iopub.status.idle": "2020-08-29T13:29:12.570860Z",
     "shell.execute_reply": "2020-08-29T13:29:12.571459Z"
    },
    "papermill": {
     "duration": 0.043616,
     "end_time": "2020-08-29T13:29:12.571637",
     "exception": false,
     "start_time": "2020-08-29T13:29:12.528021",
     "status": "completed"
    },
    "tags": []
   },
   "outputs": [
    {
     "name": "stdout",
     "output_type": "stream",
     "text": [
      "Accuracy Score: 0.9118\n",
      "SVC f1-score  : 0.9159\n",
      "SVC precision : 0.9608\n",
      "SVC recall    : 0.8750\n",
      "\n",
      "               precision    recall  f1-score   support\n",
      "\n",
      "           0       0.86      0.96      0.91        46\n",
      "           1       0.96      0.88      0.92        56\n",
      "\n",
      "    accuracy                           0.91       102\n",
      "   macro avg       0.91      0.92      0.91       102\n",
      "weighted avg       0.92      0.91      0.91       102\n",
      "\n"
     ]
    }
   ],
   "source": [
    "clf = SVC(C=5, gamma=0.2, kernel='rbf') \n",
    "clf.fit(X_train, y_train) \n",
    "\n",
    "y_pred = clf.predict(X_test)\n",
    "\n",
    "print('Accuracy Score: {:.4f}'.format(accuracy_score(y_test, y_pred)))\n",
    "print('SVC f1-score  : {:.4f}'.format(f1_score(y_pred, y_test)))\n",
    "print('SVC precision : {:.4f}'.format(precision_score(y_pred, y_test)))\n",
    "print('SVC recall    : {:.4f}'.format(recall_score(y_pred, y_test)))\n",
    "print(\"\\n\",classification_report(y_pred, y_test))"
   ]
  },
  {
   "cell_type": "code",
   "execution_count": 20,
   "metadata": {},
   "outputs": [
    {
     "data": {
      "text/plain": [
       "<AxesSubplot:>"
      ]
     },
     "execution_count": 20,
     "metadata": {},
     "output_type": "execute_result"
    },
    {
     "data": {
      "image/png": "[encoded data removed]",
      "text/plain": [
       "<Figure size 432x288 with 2 Axes>"
      ]
     },
     "metadata": {
      "needs_background": "light"
     },
     "output_type": "display_data"
    }
   ],
   "source": [
    "sns.heatmap(confusion_matrix(y_test,y_pred), annot = True)"
   ]
  },
  {
   "cell_type": "code",
   "execution_count": 21,
   "metadata": {
    "execution": {
     "iopub.execute_input": "2020-08-29T13:29:12.598649Z",
     "iopub.status.busy": "2020-08-29T13:29:12.597800Z",
     "iopub.status.idle": "2020-08-29T13:29:12.875564Z",
     "shell.execute_reply": "2020-08-29T13:29:12.874775Z"
    },
    "papermill": {
     "duration": 0.294171,
     "end_time": "2020-08-29T13:29:12.875698",
     "exception": false,
     "start_time": "2020-08-29T13:29:12.581527",
     "status": "completed"
    },
    "tags": []
   },
   "outputs": [
    {
     "data": {
      "text/plain": [
       "<AxesSubplot:>"
      ]
     },
     "execution_count": 21,
     "metadata": {},
     "output_type": "execute_result"
    },
    {
     "data": {
      "image/png": "[encoded data removed]",
      "text/plain": [
       "<Figure size 432x288 with 2 Axes>"
      ]
     },
     "metadata": {
      "needs_background": "light"
     },
     "output_type": "display_data"
    }
   ],
   "source": [
    "y_pred = clf.predict(X_test)\n",
    "\n",
    "cf_matrix = confusion_matrix(y_pred, y_test)\n",
    "sns.heatmap((cf_matrix / np.sum(cf_matrix)*100), annot = True, fmt=\".2f\", cmap=\"Blues\")"
   ]
  },
  {
   "cell_type": "markdown",
   "metadata": {
    "papermill": {
     "duration": 0.009672,
     "end_time": "2020-08-29T13:29:12.896038",
     "exception": false,
     "start_time": "2020-08-29T13:29:12.886366",
     "status": "completed"
    },
    "tags": []
   },
   "source": [
    "## Reporting\n",
    "\n",
    "I evaluated the results I found with Confusion Matrix, the results are as follows:\n",
    "\n",
    "**Correctly predicted -> %91.18 (93 of 102 predict are correct)**\n",
    "- True Negative -> %48.04 -> Those who were predicted not to die and who did not die\n",
    "- True Positive -> %43.14 -> Those who were predicted to die and who did die\n",
    "\n",
    "**Wrong predicted-> %8.82 (9 of 102 predict are wrong)**\n",
    "- False Positive -> %01.96 -> Those who were predicted to die but who did not die\n",
    "- False Negative -> %06.86 -> Those who were predicted to not die but who did die"
   ]
  }
 ],
 "metadata": {
  "kernelspec": {
   "display_name": "Python 3 (ipykernel)",
   "language": "python",
   "name": "python3"
  },
  "language_info": {
   "codemirror_mode": {
    "name": "ipython",
    "version": 3
   },
   "file_extension": ".py",
   "mimetype": "text/x-python",
   "name": "python",
   "nbconvert_exporter": "python",
   "pygments_lexer": "ipython3",
   "version": "3.8.10"
  },
  "papermill": {
   "duration": 273.207692,
   "end_time": "2020-08-29T13:29:18.072002",
   "environment_variables": {},
   "exception": null,
   "input_path": "__notebook__.ipynb",
   "output_path": "__notebook__.ipynb",
   "parameters": {},
   "start_time": "2020-08-29T13:24:44.864310",
   "version": "2.1.0"
  }
 },
 "nbformat": 4,
 "nbformat_minor": 4
}

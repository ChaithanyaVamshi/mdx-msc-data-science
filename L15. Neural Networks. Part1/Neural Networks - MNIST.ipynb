{
 "cells": [
  {
   "cell_type": "code",
   "execution_count": 1,
   "id": "a2e50c20",
   "metadata": {
    "scrolled": true
   },
   "outputs": [
    {
     "name": "stdout",
     "output_type": "stream",
     "text": [
      "Requirement already satisfied: tensorflow==2.7.0 in /home/ivan/.local/lib/python3.8/site-packages (2.7.0)\n",
      "Requirement already satisfied: flatbuffers<3.0,>=1.12 in /home/ivan/.local/lib/python3.8/site-packages (from tensorflow==2.7.0) (2.0)\n",
      "Requirement already satisfied: termcolor>=1.1.0 in /home/ivan/.local/lib/python3.8/site-packages (from tensorflow==2.7.0) (1.1.0)\n",
      "Requirement already satisfied: astunparse>=1.6.0 in /home/ivan/.local/lib/python3.8/site-packages (from tensorflow==2.7.0) (1.6.3)\n",
      "Requirement already satisfied: tensorflow-io-gcs-filesystem>=0.21.0 in /home/ivan/.local/lib/python3.8/site-packages (from tensorflow==2.7.0) (0.22.0)\n",
      "Requirement already satisfied: tensorflow-estimator<2.8,~=2.7.0rc0 in /home/ivan/.local/lib/python3.8/site-packages (from tensorflow==2.7.0) (2.7.0)\n",
      "Requirement already satisfied: typing-extensions>=3.6.6 in /home/ivan/.local/lib/python3.8/site-packages (from tensorflow==2.7.0) (4.0.1)\n",
      "Requirement already satisfied: libclang>=9.0.1 in /home/ivan/.local/lib/python3.8/site-packages (from tensorflow==2.7.0) (12.0.0)\n",
      "Requirement already satisfied: absl-py>=0.4.0 in /home/ivan/.local/lib/python3.8/site-packages (from tensorflow==2.7.0) (1.0.0)\n",
      "Requirement already satisfied: google-pasta>=0.1.1 in /home/ivan/.local/lib/python3.8/site-packages (from tensorflow==2.7.0) (0.2.0)\n",
      "Requirement already satisfied: protobuf>=3.9.2 in /home/ivan/.local/lib/python3.8/site-packages (from tensorflow==2.7.0) (3.19.1)\n",
      "Requirement already satisfied: grpcio<2.0,>=1.24.3 in /home/ivan/.local/lib/python3.8/site-packages (from tensorflow==2.7.0) (1.42.0)\n",
      "Requirement already satisfied: gast<0.5.0,>=0.2.1 in /home/ivan/.local/lib/python3.8/site-packages (from tensorflow==2.7.0) (0.4.0)\n",
      "Requirement already satisfied: keras<2.8,>=2.7.0rc0 in /home/ivan/.local/lib/python3.8/site-packages (from tensorflow==2.7.0) (2.7.0)\n",
      "Requirement already satisfied: numpy>=1.14.5 in /home/ivan/.local/lib/python3.8/site-packages (from tensorflow==2.7.0) (1.21.4)\n",
      "Requirement already satisfied: wrapt>=1.11.0 in /home/ivan/.local/lib/python3.8/site-packages (from tensorflow==2.7.0) (1.13.3)\n",
      "Requirement already satisfied: keras-preprocessing>=1.1.1 in /home/ivan/.local/lib/python3.8/site-packages (from tensorflow==2.7.0) (1.1.2)\n",
      "Requirement already satisfied: wheel<1.0,>=0.32.0 in /usr/lib/python3/dist-packages (from tensorflow==2.7.0) (0.34.2)\n",
      "Requirement already satisfied: opt-einsum>=2.3.2 in /home/ivan/.local/lib/python3.8/site-packages (from tensorflow==2.7.0) (3.3.0)\n",
      "Requirement already satisfied: tensorboard~=2.6 in /home/ivan/.local/lib/python3.8/site-packages (from tensorflow==2.7.0) (2.7.0)\n",
      "Requirement already satisfied: h5py>=2.9.0 in /home/ivan/.local/lib/python3.8/site-packages (from tensorflow==2.7.0) (3.6.0)\n",
      "Requirement already satisfied: six>=1.12.0 in /home/ivan/.local/lib/python3.8/site-packages (from tensorflow==2.7.0) (1.16.0)\n",
      "Requirement already satisfied: google-auth<3,>=1.6.3 in /home/ivan/.local/lib/python3.8/site-packages (from tensorboard~=2.6->tensorflow==2.7.0) (2.3.3)\n",
      "Requirement already satisfied: requests<3,>=2.21.0 in /home/ivan/.local/lib/python3.8/site-packages (from tensorboard~=2.6->tensorflow==2.7.0) (2.26.0)\n",
      "Requirement already satisfied: markdown>=2.6.8 in /home/ivan/.local/lib/python3.8/site-packages (from tensorboard~=2.6->tensorflow==2.7.0) (3.3.6)\n",
      "Requirement already satisfied: tensorboard-data-server<0.7.0,>=0.6.0 in /home/ivan/.local/lib/python3.8/site-packages (from tensorboard~=2.6->tensorflow==2.7.0) (0.6.1)\n",
      "Requirement already satisfied: werkzeug>=0.11.15 in /home/ivan/.local/lib/python3.8/site-packages (from tensorboard~=2.6->tensorflow==2.7.0) (2.0.2)\n",
      "Requirement already satisfied: google-auth-oauthlib<0.5,>=0.4.1 in /home/ivan/.local/lib/python3.8/site-packages (from tensorboard~=2.6->tensorflow==2.7.0) (0.4.6)\n",
      "Requirement already satisfied: setuptools>=41.0.0 in /home/ivan/.local/lib/python3.8/site-packages (from tensorboard~=2.6->tensorflow==2.7.0) (59.4.0)\n",
      "Requirement already satisfied: tensorboard-plugin-wit>=1.6.0 in /home/ivan/.local/lib/python3.8/site-packages (from tensorboard~=2.6->tensorflow==2.7.0) (1.8.0)\n",
      "Requirement already satisfied: rsa<5,>=3.1.4; python_version >= \"3.6\" in /home/ivan/.local/lib/python3.8/site-packages (from google-auth<3,>=1.6.3->tensorboard~=2.6->tensorflow==2.7.0) (4.8)\n",
      "Requirement already satisfied: pyasn1-modules>=0.2.1 in /home/ivan/.local/lib/python3.8/site-packages (from google-auth<3,>=1.6.3->tensorboard~=2.6->tensorflow==2.7.0) (0.2.8)\n",
      "Requirement already satisfied: cachetools<5.0,>=2.0.0 in /home/ivan/.local/lib/python3.8/site-packages (from google-auth<3,>=1.6.3->tensorboard~=2.6->tensorflow==2.7.0) (4.2.4)\n",
      "Requirement already satisfied: charset-normalizer~=2.0.0; python_version >= \"3\" in /home/ivan/.local/lib/python3.8/site-packages (from requests<3,>=2.21.0->tensorboard~=2.6->tensorflow==2.7.0) (2.0.9)\n",
      "Requirement already satisfied: idna<4,>=2.5; python_version >= \"3\" in /usr/lib/python3/dist-packages (from requests<3,>=2.21.0->tensorboard~=2.6->tensorflow==2.7.0) (2.8)\n",
      "Requirement already satisfied: certifi>=2017.4.17 in /usr/lib/python3/dist-packages (from requests<3,>=2.21.0->tensorboard~=2.6->tensorflow==2.7.0) (2019.11.28)\n",
      "Requirement already satisfied: urllib3<1.27,>=1.21.1 in /home/ivan/.local/lib/python3.8/site-packages (from requests<3,>=2.21.0->tensorboard~=2.6->tensorflow==2.7.0) (1.26.7)\n",
      "Requirement already satisfied: importlib-metadata>=4.4; python_version < \"3.10\" in /home/ivan/.local/lib/python3.8/site-packages (from markdown>=2.6.8->tensorboard~=2.6->tensorflow==2.7.0) (4.8.2)\n",
      "Requirement already satisfied: requests-oauthlib>=0.7.0 in /home/ivan/.local/lib/python3.8/site-packages (from google-auth-oauthlib<0.5,>=0.4.1->tensorboard~=2.6->tensorflow==2.7.0) (1.3.0)\n",
      "Requirement already satisfied: pyasn1>=0.1.3 in /home/ivan/.local/lib/python3.8/site-packages (from rsa<5,>=3.1.4; python_version >= \"3.6\"->google-auth<3,>=1.6.3->tensorboard~=2.6->tensorflow==2.7.0) (0.4.8)\n",
      "Requirement already satisfied: zipp>=0.5 in /home/ivan/.local/lib/python3.8/site-packages (from importlib-metadata>=4.4; python_version < \"3.10\"->markdown>=2.6.8->tensorboard~=2.6->tensorflow==2.7.0) (3.6.0)\n",
      "Requirement already satisfied: oauthlib>=3.0.0 in /usr/lib/python3/dist-packages (from requests-oauthlib>=0.7.0->google-auth-oauthlib<0.5,>=0.4.1->tensorboard~=2.6->tensorflow==2.7.0) (3.1.0)\n"
     ]
    },
    {
     "name": "stderr",
     "output_type": "stream",
     "text": [
      "2022-02-03 21:13:35.494460: W tensorflow/stream_executor/platform/default/dso_loader.cc:64] Could not load dynamic library 'libcudart.so.11.0'; dlerror: libcudart.so.11.0: cannot open shared object file: No such file or directory\n",
      "2022-02-03 21:13:35.494481: I tensorflow/stream_executor/cuda/cudart_stub.cc:29] Ignore above cudart dlerror if you do not have a GPU set up on your machine.\n"
     ]
    }
   ],
   "source": [
    "!pip3 install tensorflow==2.7.0\n",
    "\n",
    "import tensorflow as tf\n",
    "from tensorflow import keras\n",
    "\n",
    "import pandas as pd\n",
    "import matplotlib.pyplot as plt\n",
    "%matplotlib inline\n",
    "import numpy as np\n",
    "\n",
    "from sklearn.model_selection import train_test_split\n",
    "\n",
    "#set random\n",
    "np_state = np.random.RandomState(2019)"
   ]
  },
  {
   "cell_type": "code",
   "execution_count": 2,
   "id": "da96f994",
   "metadata": {},
   "outputs": [],
   "source": [
    "filename = 'mini_mnist.csv'"
   ]
  },
  {
   "cell_type": "code",
   "execution_count": 3,
   "id": "6fb19f32",
   "metadata": {},
   "outputs": [],
   "source": [
    "def bar_custom(current, total, width=100):\n",
    "    print(\"Downloading: %d%% [%d / %d] bytes\" % (current / total * 100, current, total))\n",
    "\n",
    "#Don't think too much about the getDataset method. It is used for convenience\n",
    "def getDataset(filename, **kwargs):\n",
    "    url = f'https://github.com/IvanReznikov/mdx-msc-data-science/raw/main/datasets/{filename}'\n",
    "    try:\n",
    "        import os\n",
    "        if filename not in os.listdir():\n",
    "            !pip3 install wget\n",
    "            import wget\n",
    "            downloaded_filename = wget.download(url)\n",
    "            print(f'{downloaded_filename} file downloaded', bar=bar_custom)\n",
    "        else:\n",
    "            print(f'{filename} already exists')\n",
    "        return pd.read_csv(filename, **kwargs)\n",
    "        \n",
    "    except Exception as e:\n",
    "        print(e)\n",
    "        return pd.read_csv(url, **kwargs)"
   ]
  },
  {
   "cell_type": "markdown",
   "id": "8b89254a",
   "metadata": {},
   "source": [
    "Let's take a look at our data"
   ]
  },
  {
   "cell_type": "code",
   "execution_count": 4,
   "id": "639e4a3b",
   "metadata": {},
   "outputs": [
    {
     "name": "stdout",
     "output_type": "stream",
     "text": [
      "mini_mnist.csv already exists\n"
     ]
    },
    {
     "data": {
      "text/html": [
       "<div>\n",
       "<style scoped>\n",
       "    .dataframe tbody tr th:only-of-type {\n",
       "        vertical-align: middle;\n",
       "    }\n",
       "\n",
       "    .dataframe tbody tr th {\n",
       "        vertical-align: top;\n",
       "    }\n",
       "\n",
       "    .dataframe thead th {\n",
       "        text-align: right;\n",
       "    }\n",
       "</style>\n",
       "<table border=\"1\" class=\"dataframe\">\n",
       "  <thead>\n",
       "    <tr style=\"text-align: right;\">\n",
       "      <th></th>\n",
       "      <th>label</th>\n",
       "      <th>pixel0</th>\n",
       "      <th>pixel1</th>\n",
       "      <th>pixel2</th>\n",
       "      <th>pixel3</th>\n",
       "      <th>pixel4</th>\n",
       "      <th>pixel5</th>\n",
       "      <th>pixel6</th>\n",
       "      <th>pixel7</th>\n",
       "      <th>pixel8</th>\n",
       "      <th>...</th>\n",
       "      <th>pixel774</th>\n",
       "      <th>pixel775</th>\n",
       "      <th>pixel776</th>\n",
       "      <th>pixel777</th>\n",
       "      <th>pixel778</th>\n",
       "      <th>pixel779</th>\n",
       "      <th>pixel780</th>\n",
       "      <th>pixel781</th>\n",
       "      <th>pixel782</th>\n",
       "      <th>pixel783</th>\n",
       "    </tr>\n",
       "  </thead>\n",
       "  <tbody>\n",
       "    <tr>\n",
       "      <th>0</th>\n",
       "      <td>1</td>\n",
       "      <td>0</td>\n",
       "      <td>0</td>\n",
       "      <td>0</td>\n",
       "      <td>0</td>\n",
       "      <td>0</td>\n",
       "      <td>0</td>\n",
       "      <td>0</td>\n",
       "      <td>0</td>\n",
       "      <td>0</td>\n",
       "      <td>...</td>\n",
       "      <td>0</td>\n",
       "      <td>0</td>\n",
       "      <td>0</td>\n",
       "      <td>0</td>\n",
       "      <td>0</td>\n",
       "      <td>0</td>\n",
       "      <td>0</td>\n",
       "      <td>0</td>\n",
       "      <td>0</td>\n",
       "      <td>0</td>\n",
       "    </tr>\n",
       "    <tr>\n",
       "      <th>2</th>\n",
       "      <td>1</td>\n",
       "      <td>0</td>\n",
       "      <td>0</td>\n",
       "      <td>0</td>\n",
       "      <td>0</td>\n",
       "      <td>0</td>\n",
       "      <td>0</td>\n",
       "      <td>0</td>\n",
       "      <td>0</td>\n",
       "      <td>0</td>\n",
       "      <td>...</td>\n",
       "      <td>0</td>\n",
       "      <td>0</td>\n",
       "      <td>0</td>\n",
       "      <td>0</td>\n",
       "      <td>0</td>\n",
       "      <td>0</td>\n",
       "      <td>0</td>\n",
       "      <td>0</td>\n",
       "      <td>0</td>\n",
       "      <td>0</td>\n",
       "    </tr>\n",
       "    <tr>\n",
       "      <th>12</th>\n",
       "      <td>1</td>\n",
       "      <td>0</td>\n",
       "      <td>0</td>\n",
       "      <td>0</td>\n",
       "      <td>0</td>\n",
       "      <td>0</td>\n",
       "      <td>0</td>\n",
       "      <td>0</td>\n",
       "      <td>0</td>\n",
       "      <td>0</td>\n",
       "      <td>...</td>\n",
       "      <td>0</td>\n",
       "      <td>0</td>\n",
       "      <td>0</td>\n",
       "      <td>0</td>\n",
       "      <td>0</td>\n",
       "      <td>0</td>\n",
       "      <td>0</td>\n",
       "      <td>0</td>\n",
       "      <td>0</td>\n",
       "      <td>0</td>\n",
       "    </tr>\n",
       "    <tr>\n",
       "      <th>15</th>\n",
       "      <td>1</td>\n",
       "      <td>0</td>\n",
       "      <td>0</td>\n",
       "      <td>0</td>\n",
       "      <td>0</td>\n",
       "      <td>0</td>\n",
       "      <td>0</td>\n",
       "      <td>0</td>\n",
       "      <td>0</td>\n",
       "      <td>0</td>\n",
       "      <td>...</td>\n",
       "      <td>0</td>\n",
       "      <td>0</td>\n",
       "      <td>0</td>\n",
       "      <td>0</td>\n",
       "      <td>0</td>\n",
       "      <td>0</td>\n",
       "      <td>0</td>\n",
       "      <td>0</td>\n",
       "      <td>0</td>\n",
       "      <td>0</td>\n",
       "    </tr>\n",
       "    <tr>\n",
       "      <th>35</th>\n",
       "      <td>1</td>\n",
       "      <td>0</td>\n",
       "      <td>0</td>\n",
       "      <td>0</td>\n",
       "      <td>0</td>\n",
       "      <td>0</td>\n",
       "      <td>0</td>\n",
       "      <td>0</td>\n",
       "      <td>0</td>\n",
       "      <td>0</td>\n",
       "      <td>...</td>\n",
       "      <td>0</td>\n",
       "      <td>0</td>\n",
       "      <td>0</td>\n",
       "      <td>0</td>\n",
       "      <td>0</td>\n",
       "      <td>0</td>\n",
       "      <td>0</td>\n",
       "      <td>0</td>\n",
       "      <td>0</td>\n",
       "      <td>0</td>\n",
       "    </tr>\n",
       "  </tbody>\n",
       "</table>\n",
       "<p>5 rows × 785 columns</p>\n",
       "</div>"
      ],
      "text/plain": [
       "    label  pixel0  pixel1  pixel2  pixel3  pixel4  pixel5  pixel6  pixel7  \\\n",
       "0       1       0       0       0       0       0       0       0       0   \n",
       "2       1       0       0       0       0       0       0       0       0   \n",
       "12      1       0       0       0       0       0       0       0       0   \n",
       "15      1       0       0       0       0       0       0       0       0   \n",
       "35      1       0       0       0       0       0       0       0       0   \n",
       "\n",
       "    pixel8  ...  pixel774  pixel775  pixel776  pixel777  pixel778  pixel779  \\\n",
       "0        0  ...         0         0         0         0         0         0   \n",
       "2        0  ...         0         0         0         0         0         0   \n",
       "12       0  ...         0         0         0         0         0         0   \n",
       "15       0  ...         0         0         0         0         0         0   \n",
       "35       0  ...         0         0         0         0         0         0   \n",
       "\n",
       "    pixel780  pixel781  pixel782  pixel783  \n",
       "0          0         0         0         0  \n",
       "2          0         0         0         0  \n",
       "12         0         0         0         0  \n",
       "15         0         0         0         0  \n",
       "35         0         0         0         0  \n",
       "\n",
       "[5 rows x 785 columns]"
      ]
     },
     "execution_count": 4,
     "metadata": {},
     "output_type": "execute_result"
    }
   ],
   "source": [
    "data = getDataset(filename, index_col = [0])\n",
    "data.head(5)"
   ]
  },
  {
   "cell_type": "code",
   "execution_count": 5,
   "id": "7a556a26",
   "metadata": {},
   "outputs": [
    {
     "data": {
      "text/plain": [
       "(12500, 785)"
      ]
     },
     "execution_count": 5,
     "metadata": {},
     "output_type": "execute_result"
    }
   ],
   "source": [
    "data.shape"
   ]
  },
  {
   "cell_type": "markdown",
   "id": "10a2b3b5",
   "metadata": {},
   "source": [
    "Split data to target and features"
   ]
  },
  {
   "cell_type": "code",
   "execution_count": 6,
   "id": "4f14e69e",
   "metadata": {},
   "outputs": [],
   "source": [
    "X = data.iloc[:,1:]\n",
    "y = data.iloc[:,0]"
   ]
  },
  {
   "cell_type": "markdown",
   "id": "8f0825de",
   "metadata": {},
   "source": [
    "## Preview"
   ]
  },
  {
   "cell_type": "code",
   "execution_count": 7,
   "id": "0e4eb049",
   "metadata": {},
   "outputs": [],
   "source": [
    "#idx = np_state.randint(0, data.shape[0])\n",
    "idx = 10000"
   ]
  },
  {
   "cell_type": "markdown",
   "id": "c05cbce7",
   "metadata": {},
   "source": [
    "Data as an array:"
   ]
  },
  {
   "cell_type": "code",
   "execution_count": 8,
   "id": "9dedd51d",
   "metadata": {},
   "outputs": [
    {
     "data": {
      "text/plain": [
       "array([[  0,   0,   0,   0,   0,   0,   0,   0,   0,   0,   0,   0,   0,\n",
       "          0,   0,   0,   0,   0,   0,   0,   0,   0,   0,   0,   0,   0,\n",
       "          0,   0],\n",
       "       [  0,   0,   0,   0,   0,   0,   0,   0,   0,   0,   0,   0,   0,\n",
       "          0,   0,   0,   0,   0,   0,   0,   0,   0,   0,   0,   0,   0,\n",
       "          0,   0],\n",
       "       [  0,   0,   0,   0,   0,   0,   0,   0,   0,   0,   0,   0,   0,\n",
       "          0,   0,   0,   0,   0,   0,   0,   0,   0,   0,   0,   0,   0,\n",
       "          0,   0],\n",
       "       [  0,   0,   0,   0,   0,   0,   0,   0,   0,   0,   0,   0,   0,\n",
       "          0,   0,   0,   0,   0,   0,   0,   0,   0,   0,   0,   0,   0,\n",
       "          0,   0],\n",
       "       [  0,   0,   0,   0,   0,   0,   0,   0,   0,   0,   0,   0,   0,\n",
       "          0,   0,   0,   0,   0,   0,   0,   0,   0,   0,   0,   0,   0,\n",
       "          0,   0],\n",
       "       [  0,   0,   0,   0,   0,   0,   0,   0,  39,  91,  91,  91,  91,\n",
       "         91, 191, 255, 142,  91,  23,   0,   0,   0,   0,   0,   0,   0,\n",
       "          0,   0],\n",
       "       [  0,   0,   0,   0,   0,   0,   0,  23, 211, 253, 253, 253, 253,\n",
       "        253, 253, 253, 253, 253, 181,   0,   0,   0,   0,   0,   0,   0,\n",
       "          0,   0],\n",
       "       [  0,   0,   0,   0,   0,   0,   0, 180, 253, 253, 253, 253, 253,\n",
       "        253, 253, 253, 253, 253, 228,   0,   0,   0,   0,   0,   0,   0,\n",
       "          0,   0],\n",
       "       [  0,   0,   0,   0,   0,   0,   0, 180, 253, 253, 253, 253, 253,\n",
       "        253, 253, 253, 253, 253, 228,   0,   0,   0,   0,   0,   0,   0,\n",
       "          0,   0],\n",
       "       [  0,   0,   0,   0,   0,   0,   0, 101, 253, 253, 253, 253, 253,\n",
       "        253, 253, 253, 253, 253, 228,   0,   0,   0,   0,   0,   0,   0,\n",
       "          0,   0],\n",
       "       [  0,   0,   0,   0,   0,   0,   0,  14, 224, 253, 253, 211, 114,\n",
       "         96, 253, 253, 253, 253, 228,   0,   0,   0,   0,   0,   0,   0,\n",
       "          0,   0],\n",
       "       [  0,   0,   0,   0,   0,   0,   0,   0,  48, 204, 114,  18,   0,\n",
       "        156, 253, 253, 253, 253, 228,   0,   0,   0,   0,   0,   0,   0,\n",
       "          0,   0],\n",
       "       [  0,   0,   0,   0,   0,   0,   0,   0,   0,  15,   0,   0,   0,\n",
       "        230, 253, 253, 253, 253, 185,   0,   0,   0,   0,   0,   0,   0,\n",
       "          0,   0],\n",
       "       [  0,   0,   0,   0,   0,   0,   0,   0,   0,   0,   0,  31, 156,\n",
       "        244, 253, 253, 253, 192,  25,   0,   0,   0,   0,   0,   0,   0,\n",
       "          0,   0],\n",
       "       [  0,   0,   0,   0,   0,   0,   0,   0,   0,   0,   0, 209, 253,\n",
       "        253, 253, 253, 245,   5,   0,   0,   0,   0,   0,   0,   0,   0,\n",
       "          0,   0],\n",
       "       [  0,   0,   0,   0,   0,   0,   0,   0,   0,   0,   5, 215, 253,\n",
       "        253, 253, 245, 130,   0,   0,   0,   0,   0,   0,   0,   0,   0,\n",
       "          0,   0],\n",
       "       [  0,   0,   0,   0,   0,   0,   0,   0,   0,   0, 124, 253, 253,\n",
       "        253, 253,   7,   0,   0,   0,   0,   0,   0,   0,   0,   0,   0,\n",
       "          0,   0],\n",
       "       [  0,   0,   0,   0,   0,   0,   0,   0,   0,  41, 220, 253, 253,\n",
       "        253, 238,   6,   0,   0,   0,   0,   0,   0,   0,   0,   0,   0,\n",
       "          0,   0],\n",
       "       [  0,   0,   0,   0,   0,   0,   0,   0,  49, 222, 253, 253, 253,\n",
       "        253,  98,   0,   0,   0,   0,   0,   0,   0,   0,   0,   0,   0,\n",
       "          0,   0],\n",
       "       [  0,   0,   0,   0,   0,   0,   0,   0, 107, 253, 253, 253, 253,\n",
       "        210,  35,   0,   0,   0,   5,  42,  42,  42,  42,  18,   0,   0,\n",
       "          0,   0],\n",
       "       [  0,   0,   0,   0,   0,   0,   0,   0, 107, 253, 253, 253, 253,\n",
       "        253, 178, 131, 131, 131, 143, 253, 253, 253, 253, 182,   8,   0,\n",
       "          0,   0],\n",
       "       [  0,   0,   0,   0,   0,   0,   0,   0,  83, 240, 253, 253, 253,\n",
       "        253, 253, 253, 253, 253, 253, 253, 253, 253, 240, 195,  12,   0,\n",
       "          0,   0],\n",
       "       [  0,   0,   0,   0,   0,   0,   0,   0,   0, 197, 253, 253, 253,\n",
       "        253, 253, 253, 253, 253, 253, 253, 229, 106,  82,   0,   0,   0,\n",
       "          0,   0],\n",
       "       [  0,   0,   0,   0,   0,   0,   0,   0,   0,  33, 179, 241, 253,\n",
       "        253, 253, 253, 253, 253, 246, 179,  44,   0,   0,   0,   0,   0,\n",
       "          0,   0],\n",
       "       [  0,   0,   0,   0,   0,   0,   0,   0,   0,   0,   0,  75,  89,\n",
       "        195,  89,  89,  89,  89,  81,   0,   0,   0,   0,   0,   0,   0,\n",
       "          0,   0],\n",
       "       [  0,   0,   0,   0,   0,   0,   0,   0,   0,   0,   0,   0,   0,\n",
       "          0,   0,   0,   0,   0,   0,   0,   0,   0,   0,   0,   0,   0,\n",
       "          0,   0],\n",
       "       [  0,   0,   0,   0,   0,   0,   0,   0,   0,   0,   0,   0,   0,\n",
       "          0,   0,   0,   0,   0,   0,   0,   0,   0,   0,   0,   0,   0,\n",
       "          0,   0],\n",
       "       [  0,   0,   0,   0,   0,   0,   0,   0,   0,   0,   0,   0,   0,\n",
       "          0,   0,   0,   0,   0,   0,   0,   0,   0,   0,   0,   0,   0,\n",
       "          0,   0]])"
      ]
     },
     "execution_count": 8,
     "metadata": {},
     "output_type": "execute_result"
    }
   ],
   "source": [
    "X.iloc[idx, :].values.reshape(28,28)"
   ]
  },
  {
   "cell_type": "code",
   "execution_count": 9,
   "id": "6a05331f",
   "metadata": {},
   "outputs": [
    {
     "data": {
      "text/plain": [
       "(<matplotlib.image.AxesImage at 0x7f4ec3248df0>, 2)"
      ]
     },
     "execution_count": 9,
     "metadata": {},
     "output_type": "execute_result"
    },
    {
     "data": {
      "image/png": "[encoded data removed]",
      "text/plain": [
       "<Figure size 288x288 with 1 Axes>"
      ]
     },
     "metadata": {
      "needs_background": "light"
     },
     "output_type": "display_data"
    }
   ],
   "source": [
    "plt.matshow(X.iloc[idx,:].values.reshape(28,28)), y[idx]"
   ]
  },
  {
   "cell_type": "markdown",
   "id": "1eecd620",
   "metadata": {},
   "source": [
    "### Split train_test"
   ]
  },
  {
   "cell_type": "code",
   "execution_count": 10,
   "id": "bcddf8a1",
   "metadata": {},
   "outputs": [],
   "source": [
    "X_train, X_test, y_train, y_test = train_test_split(X, y, test_size=0.2, random_state=42)"
   ]
  },
  {
   "cell_type": "code",
   "execution_count": 11,
   "id": "75e340b9",
   "metadata": {},
   "outputs": [
    {
     "data": {
      "text/plain": [
       "<AxesSubplot:>"
      ]
     },
     "execution_count": 11,
     "metadata": {},
     "output_type": "execute_result"
    },
    {
     "data": {
      "image/png": "[encoded data removed]",
      "text/plain": [
       "<Figure size 432x288 with 1 Axes>"
      ]
     },
     "metadata": {
      "needs_background": "light"
     },
     "output_type": "display_data"
    }
   ],
   "source": [
    "y_train.hist()"
   ]
  },
  {
   "cell_type": "code",
   "execution_count": 12,
   "id": "3e59b0f8",
   "metadata": {},
   "outputs": [
    {
     "data": {
      "text/plain": [
       "<AxesSubplot:>"
      ]
     },
     "execution_count": 12,
     "metadata": {},
     "output_type": "execute_result"
    },
    {
     "data": {
      "image/png": "[encoded data removed]",
      "text/plain": [
       "<Figure size 432x288 with 1 Axes>"
      ]
     },
     "metadata": {
      "needs_background": "light"
     },
     "output_type": "display_data"
    }
   ],
   "source": [
    "y_test.hist()"
   ]
  },
  {
   "cell_type": "markdown",
   "id": "68b4e936",
   "metadata": {},
   "source": [
    "## Simple neural network in Keras"
   ]
  },
  {
   "cell_type": "code",
   "execution_count": 13,
   "id": "f2f8d6b2",
   "metadata": {},
   "outputs": [
    {
     "name": "stderr",
     "output_type": "stream",
     "text": [
      "2022-02-03 21:13:39.588861: W tensorflow/stream_executor/platform/default/dso_loader.cc:64] Could not load dynamic library 'libcuda.so.1'; dlerror: libcuda.so.1: cannot open shared object file: No such file or directory\n",
      "2022-02-03 21:13:39.588885: W tensorflow/stream_executor/cuda/cuda_driver.cc:269] failed call to cuInit: UNKNOWN ERROR (303)\n",
      "2022-02-03 21:13:39.588904: I tensorflow/stream_executor/cuda/cuda_diagnostics.cc:156] kernel driver does not appear to be running on this host (ivan-ThinkPad-T590): /proc/driver/nvidia/version does not exist\n",
      "2022-02-03 21:13:39.589203: I tensorflow/core/platform/cpu_feature_guard.cc:151] This TensorFlow binary is optimized with oneAPI Deep Neural Network Library (oneDNN) to use the following CPU instructions in performance-critical operations:  AVX2 FMA\n",
      "To enable them in other operations, rebuild TensorFlow with the appropriate compiler flags.\n"
     ]
    }
   ],
   "source": [
    "# Sequential create a stack of layers\n",
    "model = keras.Sequential([\n",
    "    keras.layers.Dense(10, input_shape=(784,), activation='softmax')\n",
    "])"
   ]
  },
  {
   "cell_type": "code",
   "execution_count": 14,
   "id": "a13e4827",
   "metadata": {},
   "outputs": [
    {
     "name": "stdout",
     "output_type": "stream",
     "text": [
      "Model: \"sequential\"\n",
      "_________________________________________________________________\n",
      " Layer (type)                Output Shape              Param #   \n",
      "=================================================================\n",
      " dense (Dense)               (None, 10)                7850      \n",
      "                                                                 \n",
      "=================================================================\n",
      "Total params: 7,850\n",
      "Trainable params: 7,850\n",
      "Non-trainable params: 0\n",
      "_________________________________________________________________\n"
     ]
    }
   ],
   "source": [
    "model.summary()"
   ]
  },
  {
   "cell_type": "code",
   "execution_count": 15,
   "id": "49b97210",
   "metadata": {},
   "outputs": [
    {
     "data": {
      "text/plain": [
       "7850"
      ]
     },
     "execution_count": 15,
     "metadata": {},
     "output_type": "execute_result"
    }
   ],
   "source": [
    "#784 -> 10 neurons\n",
    "#784*10 - weights\n",
    "#10 - biases\n",
    "\n",
    "784*10 + 10"
   ]
  },
  {
   "cell_type": "code",
   "execution_count": 16,
   "id": "4cb80cdd",
   "metadata": {},
   "outputs": [
    {
     "data": {
      "image/png": "[encoded data removed]",
      "text/plain": [
       "<IPython.core.display.Image object>"
      ]
     },
     "execution_count": 16,
     "metadata": {},
     "output_type": "execute_result"
    }
   ],
   "source": [
    "from keras.utils.vis_utils import plot_model\n",
    "plot_model(model, show_shapes=True, show_layer_names=True)"
   ]
  },
  {
   "cell_type": "code",
   "execution_count": 17,
   "id": "4baa3f03",
   "metadata": {},
   "outputs": [
    {
     "name": "stdout",
     "output_type": "stream",
     "text": [
      "Epoch 1/5\n",
      "313/313 [==============================] - 1s 2ms/step - loss: 21.9691 - accuracy: 0.7182\n",
      "Epoch 2/5\n",
      "313/313 [==============================] - 1s 2ms/step - loss: 7.9056 - accuracy: 0.8560\n",
      "Epoch 3/5\n",
      "313/313 [==============================] - 1s 2ms/step - loss: 5.9062 - accuracy: 0.8768\n",
      "Epoch 4/5\n",
      "313/313 [==============================] - 1s 2ms/step - loss: 5.1945 - accuracy: 0.8814\n",
      "Epoch 5/5\n",
      "313/313 [==============================] - 1s 2ms/step - loss: 4.5726 - accuracy: 0.8930\n"
     ]
    },
    {
     "data": {
      "text/plain": [
       "<keras.callbacks.History at 0x7f4f3dfef820>"
      ]
     },
     "execution_count": 17,
     "metadata": {},
     "output_type": "execute_result"
    }
   ],
   "source": [
    "# Optimizer will help in backproagation to reach better global optima\n",
    "model.compile(\n",
    "    optimizer='adam',\n",
    "    loss='sparse_categorical_crossentropy',\n",
    "    metrics=['accuracy']\n",
    ")\n",
    "\n",
    "# Does the training\n",
    "model.fit(X_train, y_train, epochs=5)"
   ]
  },
  {
   "cell_type": "code",
   "execution_count": 18,
   "id": "e119f5f8",
   "metadata": {},
   "outputs": [
    {
     "name": "stdout",
     "output_type": "stream",
     "text": [
      "79/79 [==============================] - 0s 879us/step - loss: 8.0742 - accuracy: 0.8660\n"
     ]
    },
    {
     "data": {
      "text/plain": [
       "[8.074209213256836, 0.8659999966621399]"
      ]
     },
     "execution_count": 18,
     "metadata": {},
     "output_type": "execute_result"
    }
   ],
   "source": [
    "model.evaluate(X_test, y_test)"
   ]
  },
  {
   "cell_type": "code",
   "execution_count": 19,
   "id": "01df51fd",
   "metadata": {},
   "outputs": [
    {
     "data": {
      "image/png": "[encoded data removed]",
      "text/plain": [
       "<Figure size 288x288 with 1 Axes>"
      ]
     },
     "metadata": {
      "needs_background": "light"
     },
     "output_type": "display_data"
    },
    {
     "data": {
      "image/png": "[encoded data removed]",
      "text/plain": [
       "<Figure size 288x288 with 1 Axes>"
      ]
     },
     "metadata": {
      "needs_background": "light"
     },
     "output_type": "display_data"
    },
    {
     "data": {
      "image/png": "[encoded data removed]",
      "text/plain": [
       "<Figure size 288x288 with 1 Axes>"
      ]
     },
     "metadata": {
      "needs_background": "light"
     },
     "output_type": "display_data"
    },
    {
     "data": {
      "image/png": "[encoded data removed]",
      "text/plain": [
       "<Figure size 288x288 with 1 Axes>"
      ]
     },
     "metadata": {
      "needs_background": "light"
     },
     "output_type": "display_data"
    },
    {
     "data": {
      "image/png": "[encoded data removed]",
      "text/plain": [
       "<Figure size 288x288 with 1 Axes>"
      ]
     },
     "metadata": {
      "needs_background": "light"
     },
     "output_type": "display_data"
    }
   ],
   "source": [
    "# Show the image\n",
    "for i in range(5):\n",
    "    #idx not i\n",
    "    plt.matshow(X_test.iloc[i,:].values.reshape(28,28))"
   ]
  },
  {
   "cell_type": "code",
   "execution_count": 20,
   "id": "1be77be1",
   "metadata": {},
   "outputs": [],
   "source": [
    "# Make the predictions\n",
    "y_predicted = model.predict(X_test)"
   ]
  },
  {
   "cell_type": "code",
   "execution_count": 21,
   "id": "0e035b03",
   "metadata": {},
   "outputs": [
    {
     "name": "stdout",
     "output_type": "stream",
     "text": [
      "[1. 0. 0. 0. 0. 0. 0. 0. 0. 0.]\n",
      "0\n",
      "[0. 0. 0. 0. 0. 0. 1. 0. 0. 0.]\n",
      "6\n",
      "[0.0000000e+00 0.0000000e+00 9.1831501e-35 0.0000000e+00 9.0688884e-14\n",
      " 0.0000000e+00 0.0000000e+00 3.8448979e-25 0.0000000e+00 1.0000000e+00]\n",
      "9\n",
      "[0. 0. 0. 0. 0. 0. 0. 1. 0. 0.]\n",
      "7\n",
      "[0. 0. 1. 0. 0. 0. 0. 0. 0. 0.]\n",
      "2\n"
     ]
    }
   ],
   "source": [
    "for i in range(5):\n",
    "    print(y_predicted[i])\n",
    "    print(np.argmax(y_predicted[i]))"
   ]
  },
  {
   "cell_type": "code",
   "execution_count": 22,
   "id": "873d3ce5",
   "metadata": {},
   "outputs": [
    {
     "data": {
      "text/plain": [
       "([0, 6, 9, 7, 2], array([0, 6, 9, 7, 2]))"
      ]
     },
     "execution_count": 22,
     "metadata": {},
     "output_type": "execute_result"
    }
   ],
   "source": [
    "# converting y_predicted from whole numbers to integers\n",
    "# so that we can use it in confusion matrix\n",
    "# In short we are argmaxing the entire prediction\n",
    "y_predicted_labels = [np.argmax(i) for i in y_predicted]\n",
    "y_predicted_labels[:5], y_test.iloc[:5].values"
   ]
  },
  {
   "cell_type": "code",
   "execution_count": 23,
   "id": "17f6ae58",
   "metadata": {},
   "outputs": [
    {
     "data": {
      "text/plain": [
       "<tf.Tensor: shape=(10, 10), dtype=int32, numpy=\n",
       "array([[238,   0,   3,   3,   0,   1,   5,   1,   7,   1],\n",
       "       [  0, 249,   1,   3,   0,   0,   0,   1,   3,   0],\n",
       "       [  1,   2, 231,   4,   1,   0,   3,   7,   9,   0],\n",
       "       [  0,   1,   9, 247,   0,   3,   2,   2,   4,   0],\n",
       "       [  0,   0,   7,   0, 213,   0,  12,   6,   7,   6],\n",
       "       [  2,   3,   4,  22,   1, 165,   6,   2,  33,   3],\n",
       "       [  3,   0,  11,   0,   0,   2, 203,   1,   2,   0],\n",
       "       [  0,   1,   3,   4,   1,   0,   1, 229,   2,   9],\n",
       "       [  0,   3,   2,  17,   0,   1,   1,   2, 221,   0],\n",
       "       [  2,   0,   4,  11,  13,   2,   0,  31,  15, 169]], dtype=int32)>"
      ]
     },
     "execution_count": 23,
     "metadata": {},
     "output_type": "execute_result"
    }
   ],
   "source": [
    "cm = tf.math.confusion_matrix(labels=y_test, predictions=y_predicted_labels)\n",
    "cm"
   ]
  },
  {
   "cell_type": "code",
   "execution_count": 24,
   "id": "f5907c1c",
   "metadata": {},
   "outputs": [
    {
     "data": {
      "text/plain": [
       "Text(69.0, 0.5, 'Truth')"
      ]
     },
     "execution_count": 24,
     "metadata": {},
     "output_type": "execute_result"
    },
    {
     "data": {
      "image/png": "[encoded data removed]",
      "text/plain": [
       "<Figure size 720x504 with 2 Axes>"
      ]
     },
     "metadata": {
      "needs_background": "light"
     },
     "output_type": "display_data"
    }
   ],
   "source": [
    "import seaborn as sn\n",
    "plt.figure(figsize = (10,7))\n",
    "sn.heatmap(cm, annot=True, fmt='d')\n",
    "plt.xlabel('Predicted')\n",
    "plt.ylabel('Truth')"
   ]
  },
  {
   "cell_type": "markdown",
   "id": "de737e0a",
   "metadata": {},
   "source": [
    "## Adding a hidden layer"
   ]
  },
  {
   "cell_type": "code",
   "execution_count": 88,
   "id": "fe052ad5",
   "metadata": {},
   "outputs": [
    {
     "data": {
      "text/plain": [
       "(10000, 784)"
      ]
     },
     "execution_count": 88,
     "metadata": {},
     "output_type": "execute_result"
    }
   ],
   "source": [
    "X_train.shape"
   ]
  },
  {
   "cell_type": "code",
   "execution_count": 80,
   "id": "7916c649",
   "metadata": {},
   "outputs": [],
   "source": [
    "# Sequential create a stack of layers\n",
    "# Create a hidden layer with 100 neurons and relu activation\n",
    "model = keras.Sequential([\n",
    "    keras.layers.Dense(250, input_shape=(784,), activation='sigmoid'),\n",
    "    keras.layers.Dense(10, activation='tanh'),\n",
    "    keras.layers.Dense(250, activation='relu'),\n",
    "    keras.layers.Dense(10, activation='softmax')\n",
    "])"
   ]
  },
  {
   "cell_type": "code",
   "execution_count": 81,
   "id": "849ff067",
   "metadata": {},
   "outputs": [
    {
     "name": "stdout",
     "output_type": "stream",
     "text": [
      "Model: \"sequential_10\"\n",
      "_________________________________________________________________\n",
      " Layer (type)                Output Shape              Param #   \n",
      "=================================================================\n",
      " dense_30 (Dense)            (None, 250)               196250    \n",
      "                                                                 \n",
      " dense_31 (Dense)            (None, 10)                2510      \n",
      "                                                                 \n",
      " dense_32 (Dense)            (None, 250)               2750      \n",
      "                                                                 \n",
      " dense_33 (Dense)            (None, 10)                2510      \n",
      "                                                                 \n",
      "=================================================================\n",
      "Total params: 204,020\n",
      "Trainable params: 204,020\n",
      "Non-trainable params: 0\n",
      "_________________________________________________________________\n"
     ]
    }
   ],
   "source": [
    "model.summary()"
   ]
  },
  {
   "cell_type": "code",
   "execution_count": 82,
   "id": "a2999de3",
   "metadata": {},
   "outputs": [
    {
     "data": {
      "image/png": "[encoded data removed]",
      "text/plain": [
       "<IPython.core.display.Image object>"
      ]
     },
     "execution_count": 82,
     "metadata": {},
     "output_type": "execute_result"
    }
   ],
   "source": [
    "from keras.utils.vis_utils import plot_model\n",
    "plot_model(model, show_shapes=True, show_layer_names=True)"
   ]
  },
  {
   "cell_type": "code",
   "execution_count": 86,
   "id": "7ccd687d",
   "metadata": {},
   "outputs": [
    {
     "name": "stdout",
     "output_type": "stream",
     "text": [
      "Epoch 1/40\n",
      "313/313 [==============================] - 1s 3ms/step - loss: 0.2484 - accuracy: 0.9211\n",
      "Epoch 2/40\n",
      "313/313 [==============================] - 1s 3ms/step - loss: 0.2340 - accuracy: 0.9238\n",
      "Epoch 3/40\n",
      "313/313 [==============================] - 1s 3ms/step - loss: 0.2393 - accuracy: 0.9228\n",
      "Epoch 4/40\n",
      "313/313 [==============================] - 1s 3ms/step - loss: 0.2238 - accuracy: 0.9276\n",
      "Epoch 5/40\n",
      "313/313 [==============================] - 1s 3ms/step - loss: 0.2345 - accuracy: 0.9227\n",
      "Epoch 6/40\n",
      "313/313 [==============================] - 1s 3ms/step - loss: 0.2430 - accuracy: 0.9217\n",
      "Epoch 7/40\n",
      "313/313 [==============================] - 1s 3ms/step - loss: 0.2418 - accuracy: 0.9204\n",
      "Epoch 8/40\n",
      "313/313 [==============================] - 1s 3ms/step - loss: 0.2357 - accuracy: 0.9244\n",
      "Epoch 9/40\n",
      "313/313 [==============================] - 1s 3ms/step - loss: 0.2200 - accuracy: 0.9300\n",
      "Epoch 10/40\n",
      "313/313 [==============================] - 1s 3ms/step - loss: 0.2162 - accuracy: 0.9301\n",
      "Epoch 11/40\n",
      "313/313 [==============================] - 1s 3ms/step - loss: 0.2079 - accuracy: 0.9334\n",
      "Epoch 12/40\n",
      "313/313 [==============================] - 1s 4ms/step - loss: 0.2334 - accuracy: 0.9252\n",
      "Epoch 13/40\n",
      "313/313 [==============================] - 1s 3ms/step - loss: 0.2242 - accuracy: 0.9265\n",
      "Epoch 14/40\n",
      "313/313 [==============================] - 1s 3ms/step - loss: 0.2302 - accuracy: 0.9274\n",
      "Epoch 15/40\n",
      "313/313 [==============================] - 1s 4ms/step - loss: 0.2087 - accuracy: 0.9336\n",
      "Epoch 16/40\n",
      "313/313 [==============================] - 1s 3ms/step - loss: 0.2071 - accuracy: 0.9296\n",
      "Epoch 17/40\n",
      "313/313 [==============================] - 1s 3ms/step - loss: 0.2190 - accuracy: 0.9269\n",
      "Epoch 18/40\n",
      "313/313 [==============================] - 1s 4ms/step - loss: 0.2086 - accuracy: 0.9330\n",
      "Epoch 19/40\n",
      "313/313 [==============================] - 1s 4ms/step - loss: 0.1998 - accuracy: 0.9356\n",
      "Epoch 20/40\n",
      "313/313 [==============================] - 1s 3ms/step - loss: 0.2028 - accuracy: 0.9335\n",
      "Epoch 21/40\n",
      "313/313 [==============================] - 1s 3ms/step - loss: 0.2105 - accuracy: 0.9295\n",
      "Epoch 22/40\n",
      "313/313 [==============================] - 1s 3ms/step - loss: 0.2102 - accuracy: 0.9290\n",
      "Epoch 23/40\n",
      "313/313 [==============================] - 1s 3ms/step - loss: 0.2102 - accuracy: 0.9296\n",
      "Epoch 24/40\n",
      "313/313 [==============================] - 1s 4ms/step - loss: 0.2049 - accuracy: 0.9313\n",
      "Epoch 25/40\n",
      "313/313 [==============================] - 1s 4ms/step - loss: 0.1946 - accuracy: 0.9359\n",
      "Epoch 26/40\n",
      "313/313 [==============================] - 1s 3ms/step - loss: 0.2117 - accuracy: 0.9280\n",
      "Epoch 27/40\n",
      "313/313 [==============================] - 1s 3ms/step - loss: 0.2167 - accuracy: 0.9300\n",
      "Epoch 28/40\n",
      "313/313 [==============================] - 1s 3ms/step - loss: 0.2088 - accuracy: 0.9302\n",
      "Epoch 29/40\n",
      "313/313 [==============================] - 1s 3ms/step - loss: 0.1957 - accuracy: 0.9341\n",
      "Epoch 30/40\n",
      "313/313 [==============================] - 1s 3ms/step - loss: 0.1994 - accuracy: 0.9341\n",
      "Epoch 31/40\n",
      "313/313 [==============================] - 1s 3ms/step - loss: 0.2039 - accuracy: 0.9373\n",
      "Epoch 32/40\n",
      "313/313 [==============================] - 1s 4ms/step - loss: 0.2067 - accuracy: 0.9331\n",
      "Epoch 33/40\n",
      "313/313 [==============================] - 1s 4ms/step - loss: 0.2016 - accuracy: 0.9311\n",
      "Epoch 34/40\n",
      "313/313 [==============================] - 1s 4ms/step - loss: 0.1989 - accuracy: 0.9348\n",
      "Epoch 35/40\n",
      "313/313 [==============================] - 1s 5ms/step - loss: 0.1933 - accuracy: 0.9372\n",
      "Epoch 36/40\n",
      "313/313 [==============================] - 2s 5ms/step - loss: 0.1936 - accuracy: 0.9371\n",
      "Epoch 37/40\n",
      "313/313 [==============================] - 1s 4ms/step - loss: 0.1964 - accuracy: 0.9360\n",
      "Epoch 38/40\n",
      "313/313 [==============================] - 1s 4ms/step - loss: 0.1975 - accuracy: 0.9361\n",
      "Epoch 39/40\n",
      "313/313 [==============================] - 1s 4ms/step - loss: 0.1801 - accuracy: 0.9403\n",
      "Epoch 40/40\n",
      "313/313 [==============================] - 1s 4ms/step - loss: 0.1875 - accuracy: 0.9385\n"
     ]
    },
    {
     "data": {
      "text/plain": [
       "<keras.callbacks.History at 0x7f4f3c403a00>"
      ]
     },
     "execution_count": 86,
     "metadata": {},
     "output_type": "execute_result"
    }
   ],
   "source": [
    "# Optimizer will help in backproagation to reach better global optima\n",
    "model.compile(\n",
    "    optimizer='adam',\n",
    "    loss='sparse_categorical_crossentropy',\n",
    "    metrics=['accuracy']\n",
    ")\n",
    "# Does the training\n",
    "model.fit(X_train, y_train, epochs=40)"
   ]
  },
  {
   "cell_type": "code",
   "execution_count": 87,
   "id": "57a7bac3",
   "metadata": {},
   "outputs": [
    {
     "name": "stdout",
     "output_type": "stream",
     "text": [
      "79/79 [==============================] - 0s 2ms/step - loss: 0.2758 - accuracy: 0.9148\n"
     ]
    },
    {
     "data": {
      "text/plain": [
       "[0.27582359313964844, 0.9147999882698059]"
      ]
     },
     "execution_count": 87,
     "metadata": {},
     "output_type": "execute_result"
    }
   ],
   "source": [
    "model.evaluate(X_test, y_test)"
   ]
  },
  {
   "cell_type": "code",
   "execution_count": 42,
   "id": "721d1311",
   "metadata": {},
   "outputs": [],
   "source": [
    "y_predicted = model.predict(X_test)"
   ]
  },
  {
   "cell_type": "code",
   "execution_count": 43,
   "id": "af0b0dc1",
   "metadata": {},
   "outputs": [
    {
     "name": "stdout",
     "output_type": "stream",
     "text": [
      "[9.6785319e-01 1.9578580e-04 9.4236142e-04 3.5176571e-03 3.3592712e-04\n",
      " 2.1503396e-02 3.8592331e-04 2.3648764e-03 2.2725989e-03 6.2821066e-04]\n",
      "0\n",
      "[1.0284212e-03 2.5870019e-04 4.2622425e-03 1.5930019e-03 1.5317135e-02\n",
      " 4.3087802e-03 9.7131079e-01 8.3148298e-05 1.2828958e-03 5.5497792e-04]\n",
      "6\n",
      "[6.6723867e-04 7.8524096e-04 4.9323477e-03 8.0620631e-04 1.7783618e-02\n",
      " 4.3453404e-04 1.6598117e-04 3.9576611e-01 2.9413234e-03 5.7571739e-01]\n",
      "9\n",
      "[5.2987710e-03 3.3254498e-03 7.9749813e-03 2.4474119e-03 1.5226166e-03\n",
      " 3.1939603e-03 5.4242538e-04 9.5318592e-01 5.4690028e-03 1.7039336e-02]\n",
      "7\n",
      "[1.4180172e-02 1.7365346e-03 9.6189541e-01 5.0027436e-03 6.7965518e-04\n",
      " 1.2329203e-03 4.3696817e-03 2.0908834e-03 8.0526527e-03 7.5933681e-04]\n",
      "2\n"
     ]
    }
   ],
   "source": [
    "for i in range(5):\n",
    "    print(y_predicted[i])\n",
    "    print(np.argmax(y_predicted[i]))"
   ]
  },
  {
   "cell_type": "code",
   "execution_count": 44,
   "id": "3bf865e2",
   "metadata": {},
   "outputs": [
    {
     "data": {
      "text/plain": [
       "([0, 6, 9, 7, 2], array([0, 6, 9, 7, 2]))"
      ]
     },
     "execution_count": 44,
     "metadata": {},
     "output_type": "execute_result"
    }
   ],
   "source": [
    "y_predicted_labels = [np.argmax(i) for i in y_predicted]\n",
    "y_predicted_labels[:5], y_test.iloc[:5].values"
   ]
  },
  {
   "cell_type": "code",
   "execution_count": 45,
   "id": "b24a2970",
   "metadata": {},
   "outputs": [
    {
     "data": {
      "text/plain": [
       "<tf.Tensor: shape=(10, 10), dtype=int32, numpy=\n",
       "array([[245,   0,   3,   0,   1,   3,   5,   0,   2,   0],\n",
       "       [  0, 251,   2,   1,   0,   0,   0,   0,   3,   0],\n",
       "       [  1,   5, 228,   2,   3,   2,   6,   5,   6,   0],\n",
       "       [  2,   1,  15, 215,   0,  18,   2,   3,  11,   1],\n",
       "       [  5,   0,   4,   0, 213,   3,  10,   0,   3,  13],\n",
       "       [  4,   2,   2,  11,   0, 190,   9,   3,  17,   3],\n",
       "       [  4,   0,   4,   1,   1,   5, 206,   0,   1,   0],\n",
       "       [  1,   7,   4,   1,   1,   0,   1, 220,   5,  10],\n",
       "       [  2,   8,   3,  13,   0,  14,   4,   2, 198,   3],\n",
       "       [  5,   1,   3,   1,   6,   2,   0,  15,  10, 204]], dtype=int32)>"
      ]
     },
     "execution_count": 45,
     "metadata": {},
     "output_type": "execute_result"
    }
   ],
   "source": [
    "cm = tf.math.confusion_matrix(labels=y_test, predictions=y_predicted_labels)\n",
    "cm"
   ]
  },
  {
   "cell_type": "code",
   "execution_count": 46,
   "id": "0f4b35e2",
   "metadata": {},
   "outputs": [
    {
     "data": {
      "text/plain": [
       "Text(69.0, 0.5, 'Truth')"
      ]
     },
     "execution_count": 46,
     "metadata": {},
     "output_type": "execute_result"
    },
    {
     "data": {
      "image/png": "[encoded data removed]",
      "text/plain": [
       "<Figure size 720x504 with 2 Axes>"
      ]
     },
     "metadata": {
      "needs_background": "light"
     },
     "output_type": "display_data"
    }
   ],
   "source": [
    "import seaborn as sn\n",
    "plt.figure(figsize = (10,7))\n",
    "sn.heatmap(cm, annot=True, fmt='d')\n",
    "plt.xlabel('Predicted')\n",
    "plt.ylabel('Truth')"
   ]
  },
  {
   "cell_type": "markdown",
   "id": "bd7f3dfd",
   "metadata": {},
   "source": [
    "- Activation Functions — https://keras.io/api/layers/activations/\n",
    "- Optimizers — https://keras.io/api/optimizers/\n",
    "- Loss functions — https://keras.io/api/losses/"
   ]
  },
  {
   "cell_type": "code",
   "execution_count": 35,
   "id": "34af9aa8",
   "metadata": {},
   "outputs": [
    {
     "ename": "NameError",
     "evalue": "name 'a' is not defined",
     "output_type": "error",
     "traceback": [
      "\u001b[0;31m---------------------------------------------------------------------------\u001b[0m",
      "\u001b[0;31mNameError\u001b[0m                                 Traceback (most recent call last)",
      "\u001b[0;32m/tmp/ipykernel_64083/2167009006.py\u001b[0m in \u001b[0;36m<module>\u001b[0;34m\u001b[0m\n\u001b[0;32m----> 1\u001b[0;31m \u001b[0ma\u001b[0m\u001b[0;34m\u001b[0m\u001b[0;34m\u001b[0m\u001b[0m\n\u001b[0m",
      "\u001b[0;31mNameError\u001b[0m: name 'a' is not defined"
     ]
    }
   ],
   "source": [
    "a"
   ]
  },
  {
   "cell_type": "code",
   "execution_count": null,
   "id": "8bd351d5",
   "metadata": {},
   "outputs": [],
   "source": [
    "from keras.datasets import mnist\n",
    "(x_train, y_train), (x_test, y_test) = mnist.load_data()"
   ]
  },
  {
   "cell_type": "code",
   "execution_count": null,
   "id": "c38b664e",
   "metadata": {},
   "outputs": [],
   "source": [
    "x_train[0]\n",
    "\n",
    "plt.matshow(x_train[0])"
   ]
  },
  {
   "cell_type": "code",
   "execution_count": null,
   "id": "0f9c922b",
   "metadata": {},
   "outputs": [],
   "source": [
    "x_train = x_train.reshape(x_train.shape[0], 1, 28*28)\n",
    "x_train = x_train.astype('float32')\n",
    "x_train /= 255"
   ]
  },
  {
   "cell_type": "code",
   "execution_count": null,
   "id": "27541784",
   "metadata": {},
   "outputs": [],
   "source": [
    "from keras.utils import np_utils\n",
    "y_train = np_utils.to_categorical(y_train)\n",
    "y_test = np_utils.to_categorical(y_test)"
   ]
  },
  {
   "cell_type": "code",
   "execution_count": null,
   "id": "269f1631",
   "metadata": {},
   "outputs": [],
   "source": [
    "x_train = x_train.flatten()\n",
    "x_test = x_test.flatten()\n",
    "\n",
    "x_train"
   ]
  },
  {
   "cell_type": "code",
   "execution_count": null,
   "id": "6b71926a",
   "metadata": {},
   "outputs": [],
   "source": [
    "model = keras.Sequential([\n",
    "    keras.layers.Dense(100, input_shape=(784,), activation='relu'),\n",
    "    keras.layers.Dense(10, activation='sigmoid')\n",
    "])"
   ]
  },
  {
   "cell_type": "code",
   "execution_count": null,
   "id": "3e2e2ea4",
   "metadata": {},
   "outputs": [],
   "source": [
    "from keras.utils.vis_utils import plot_model\n",
    "plot_model(model, show_shapes=True, show_layer_names=True)"
   ]
  },
  {
   "cell_type": "code",
   "execution_count": null,
   "id": "3f9d8db0",
   "metadata": {},
   "outputs": [],
   "source": [
    "# Optimizer will help in backproagation to reach better global optima\n",
    "model.compile(\n",
    "    optimizer='adam',\n",
    "    loss='sparse_categorical_crossentropy',\n",
    "    metrics=['accuracy']\n",
    ")\n",
    "# Does the training\n",
    "model.fit(x_train, y_train, epochs=5)"
   ]
  },
  {
   "cell_type": "code",
   "execution_count": null,
   "id": "5acec857",
   "metadata": {},
   "outputs": [],
   "source": [
    "model.evaluate(X_test, y_test)"
   ]
  },
  {
   "cell_type": "code",
   "execution_count": null,
   "id": "65d84844",
   "metadata": {},
   "outputs": [],
   "source": [
    "y_predicted = model.predict(X_test)"
   ]
  },
  {
   "cell_type": "code",
   "execution_count": null,
   "id": "36ce5073",
   "metadata": {},
   "outputs": [],
   "source": [
    "y_predicted_labels = [np.argmax(i) for i in y_predicted]"
   ]
  },
  {
   "cell_type": "code",
   "execution_count": null,
   "id": "a3bec8ca",
   "metadata": {},
   "outputs": [],
   "source": [
    "cm = tf.math.confusion_matrix(labels=y_test, predictions=y_predicted_labels)\n",
    "cm"
   ]
  },
  {
   "cell_type": "code",
   "execution_count": null,
   "id": "7cb847ac",
   "metadata": {},
   "outputs": [],
   "source": []
  }
 ],
 "metadata": {
  "kernelspec": {
   "display_name": "Python 3 (ipykernel)",
   "language": "python",
   "name": "python3"
  },
  "language_info": {
   "codemirror_mode": {
    "name": "ipython",
    "version": 3
   },
   "file_extension": ".py",
   "mimetype": "text/x-python",
   "name": "python",
   "nbconvert_exporter": "python",
   "pygments_lexer": "ipython3",
   "version": "3.8.10"
  }
 },
 "nbformat": 4,
 "nbformat_minor": 5
}

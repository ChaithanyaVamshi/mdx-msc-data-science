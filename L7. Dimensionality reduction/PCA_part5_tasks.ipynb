{
 "cells": [
  {
   "cell_type": "code",
   "execution_count": null,
   "id": "efeccc8b",
   "metadata": {},
   "outputs": [],
   "source": [
    "import pandas as pd\n",
    "import numpy as np\n",
    "from sklearn.decomposition import PCA\n",
    "import matplotlib.pyplot as plt"
   ]
  },
  {
   "cell_type": "code",
   "execution_count": null,
   "id": "5ac551c6",
   "metadata": {},
   "outputs": [],
   "source": [
    "#original source: https://www.kaggle.com/blastchar/telco-customer-churn\n",
    "\n",
    "filename = 'WA_Fn-UseC_-Telco-Customer-Churn.csv'\n",
    "def getDataset(filename):\n",
    "    import os\n",
    "    if filename not in os.listdir():\n",
    "        !pip3 install wget\n",
    "        import wget\n",
    "        url = f'https://github.com/IvanReznikov/mdx-msc-data-science/raw/main/datasets/{filename}'\n",
    "        downloaded_filename = wget.download(url)\n",
    "        print(f'{downloaded_filename} file downloaded')\n",
    "    else:\n",
    "        print(f'{filename} already exists')\n",
    "        \n",
    "getDataset(filename)"
   ]
  },
  {
   "cell_type": "code",
   "execution_count": null,
   "id": "35d9174e",
   "metadata": {},
   "outputs": [],
   "source": [
    "df = pd.read_csv('WA_Fn-UseC_-Telco-Customer-Churn.csv')"
   ]
  },
  {
   "cell_type": "code",
   "execution_count": null,
   "id": "6433f0f7",
   "metadata": {},
   "outputs": [],
   "source": [
    "df"
   ]
  },
  {
   "cell_type": "code",
   "execution_count": null,
   "id": "a93112a3",
   "metadata": {},
   "outputs": [],
   "source": [
    "churn_df = df['Churn']\n",
    "df.drop(['customerID', 'Churn'], axis=1, inplace=True)"
   ]
  },
  {
   "cell_type": "code",
   "execution_count": null,
   "id": "924d35b6",
   "metadata": {},
   "outputs": [],
   "source": [
    "df.dtypes"
   ]
  },
  {
   "cell_type": "markdown",
   "id": "ee3b6af2",
   "metadata": {},
   "source": [
    "### Gender"
   ]
  },
  {
   "cell_type": "code",
   "execution_count": null,
   "id": "6828d593",
   "metadata": {},
   "outputs": [],
   "source": [
    "df['gender'].value_counts()"
   ]
  },
  {
   "cell_type": "code",
   "execution_count": null,
   "id": "22660fd4",
   "metadata": {},
   "outputs": [],
   "source": [
    "gender_map = {\"Male\":0, \"Female\":1}"
   ]
  },
  {
   "cell_type": "code",
   "execution_count": null,
   "id": "cc1ff167",
   "metadata": {},
   "outputs": [],
   "source": [
    "df['gender'] = df['gender'].replace(gender_map).astype(bool)"
   ]
  },
  {
   "cell_type": "code",
   "execution_count": null,
   "id": "af89a60f",
   "metadata": {},
   "outputs": [],
   "source": [
    "df['gender']"
   ]
  },
  {
   "cell_type": "markdown",
   "id": "f96e3107",
   "metadata": {},
   "source": [
    "### SeniorCitizen"
   ]
  },
  {
   "cell_type": "code",
   "execution_count": null,
   "id": "3e383f16",
   "metadata": {},
   "outputs": [],
   "source": [
    "df['SeniorCitizen'].value_counts()"
   ]
  },
  {
   "cell_type": "code",
   "execution_count": null,
   "id": "c6efbf1c",
   "metadata": {},
   "outputs": [],
   "source": [
    "df['SeniorCitizen'].astype(bool)"
   ]
  },
  {
   "cell_type": "markdown",
   "id": "f4ad09b0",
   "metadata": {},
   "source": [
    "### Partner"
   ]
  },
  {
   "cell_type": "code",
   "execution_count": null,
   "id": "c36be36f",
   "metadata": {},
   "outputs": [],
   "source": [
    "df['Partner'].value_counts()"
   ]
  },
  {
   "cell_type": "code",
   "execution_count": null,
   "id": "88e74f0d",
   "metadata": {},
   "outputs": [],
   "source": [
    "yesno_map = {\"Yes\":1, \"No\":0}"
   ]
  },
  {
   "cell_type": "code",
   "execution_count": null,
   "id": "83def798",
   "metadata": {},
   "outputs": [],
   "source": [
    "df['Partner'] = df['Partner'].replace(yesno_map).astype(bool)"
   ]
  },
  {
   "cell_type": "markdown",
   "id": "77c114b5",
   "metadata": {},
   "source": [
    "### Dependents"
   ]
  },
  {
   "cell_type": "code",
   "execution_count": null,
   "id": "1f5d2ead",
   "metadata": {},
   "outputs": [],
   "source": [
    "df['Dependents'].value_counts()"
   ]
  },
  {
   "cell_type": "code",
   "execution_count": null,
   "id": "27c8fabf",
   "metadata": {},
   "outputs": [],
   "source": [
    "df['Dependents'] = df['Dependents'].replace(yesno_map).astype(bool)"
   ]
  },
  {
   "cell_type": "markdown",
   "id": "0f8c1e0c",
   "metadata": {},
   "source": [
    "### Tenure"
   ]
  },
  {
   "cell_type": "code",
   "execution_count": null,
   "id": "3be8e931",
   "metadata": {},
   "outputs": [],
   "source": [
    "df['tenure'].value_counts()"
   ]
  },
  {
   "cell_type": "markdown",
   "id": "67dabe8b",
   "metadata": {},
   "source": [
    "### PhoneService"
   ]
  },
  {
   "cell_type": "code",
   "execution_count": null,
   "id": "90c083fd",
   "metadata": {},
   "outputs": [],
   "source": [
    "df['PhoneService'].value_counts()"
   ]
  },
  {
   "cell_type": "code",
   "execution_count": null,
   "id": "ad80d300",
   "metadata": {},
   "outputs": [],
   "source": [
    "df['PhoneService'] = df['PhoneService'].replace(yesno_map).astype(bool)"
   ]
  },
  {
   "cell_type": "markdown",
   "id": "d82bc60e",
   "metadata": {},
   "source": [
    "### MultipleLines"
   ]
  },
  {
   "cell_type": "code",
   "execution_count": null,
   "id": "ba337765",
   "metadata": {},
   "outputs": [],
   "source": [
    "df['MultipleLines'].value_counts()"
   ]
  },
  {
   "cell_type": "code",
   "execution_count": null,
   "id": "50388d51",
   "metadata": {},
   "outputs": [],
   "source": [
    "multiple_lines_map = {\"Yes\":1, \"No\":0, \"No phone service\":0}"
   ]
  },
  {
   "cell_type": "code",
   "execution_count": null,
   "id": "7e9342ae",
   "metadata": {},
   "outputs": [],
   "source": [
    "df['MultipleLines'] = df['MultipleLines'].replace(multiple_lines_map).astype(bool)"
   ]
  },
  {
   "cell_type": "markdown",
   "id": "e9bda85a",
   "metadata": {},
   "source": [
    "### InternetService"
   ]
  },
  {
   "cell_type": "code",
   "execution_count": null,
   "id": "9091cd34",
   "metadata": {},
   "outputs": [],
   "source": [
    "df['InternetService'].value_counts()"
   ]
  },
  {
   "cell_type": "code",
   "execution_count": null,
   "id": "dbb8a02d",
   "metadata": {},
   "outputs": [],
   "source": [
    "internet_dummies = pd.get_dummies(df['InternetService'])\n",
    "internet_dummies"
   ]
  },
  {
   "cell_type": "code",
   "execution_count": null,
   "id": "e54047a7",
   "metadata": {},
   "outputs": [],
   "source": [
    "df = pd.merge(df, internet_dummies.iloc[:, 0:2], left_on=df.index, right_on = internet_dummies.index)"
   ]
  },
  {
   "cell_type": "code",
   "execution_count": null,
   "id": "b2a605c5",
   "metadata": {},
   "outputs": [],
   "source": [
    "df.drop(['InternetService', 'key_0'], axis=1, inplace=True)"
   ]
  },
  {
   "cell_type": "markdown",
   "id": "21a8b7fb",
   "metadata": {},
   "source": [
    "### OnlineSecurity"
   ]
  },
  {
   "cell_type": "code",
   "execution_count": null,
   "id": "74cd415a",
   "metadata": {},
   "outputs": [],
   "source": [
    "df['OnlineSecurity'].value_counts()"
   ]
  },
  {
   "cell_type": "code",
   "execution_count": null,
   "id": "230a0360",
   "metadata": {},
   "outputs": [],
   "source": [
    "online_security_map = {\"Yes\":1, \"No\":0, \"No internet service\":0}"
   ]
  },
  {
   "cell_type": "code",
   "execution_count": null,
   "id": "5a5dd34c",
   "metadata": {},
   "outputs": [],
   "source": [
    "df['OnlineSecurity'] = df['OnlineSecurity'].replace(online_security_map).astype(bool)"
   ]
  },
  {
   "cell_type": "markdown",
   "id": "8a1abeaa",
   "metadata": {},
   "source": [
    "Task 1. Finish other columns. After you finish with all columns, use your dataframe instead of `mini_df` used ahead"
   ]
  },
  {
   "cell_type": "code",
   "execution_count": null,
   "id": "57cafdc7",
   "metadata": {},
   "outputs": [],
   "source": []
  },
  {
   "cell_type": "code",
   "execution_count": null,
   "id": "89024640",
   "metadata": {},
   "outputs": [],
   "source": [
    "mini_df = df[['gender', 'SeniorCitizen', 'Partner', 'Dependents', 'tenure', 'PhoneService', 'MultipleLines', \n",
    "              'OnlineSecurity', 'MonthlyCharges', 'DSL', 'Fiber optic']]"
   ]
  },
  {
   "cell_type": "code",
   "execution_count": null,
   "id": "4fa6dfda",
   "metadata": {},
   "outputs": [],
   "source": [
    "mini_df.dtypes"
   ]
  },
  {
   "cell_type": "markdown",
   "id": "8372c514",
   "metadata": {},
   "source": [
    "### PCA"
   ]
  },
  {
   "cell_type": "markdown",
   "id": "55af97d1",
   "metadata": {},
   "source": [
    "Task 2. Build PCA"
   ]
  },
  {
   "cell_type": "code",
   "execution_count": null,
   "id": "8e4b6a85",
   "metadata": {},
   "outputs": [],
   "source": []
  },
  {
   "cell_type": "markdown",
   "id": "72dea2fd",
   "metadata": {},
   "source": [
    "Task 3. Analysis PC-feature dependences"
   ]
  },
  {
   "cell_type": "code",
   "execution_count": null,
   "id": "6dcdffb8",
   "metadata": {},
   "outputs": [],
   "source": []
  },
  {
   "cell_type": "markdown",
   "id": "49345176",
   "metadata": {},
   "source": [
    "Task 4. Draw scatter plot to visualize PC - churn_df relations"
   ]
  },
  {
   "cell_type": "code",
   "execution_count": null,
   "id": "55348a9d",
   "metadata": {},
   "outputs": [],
   "source": []
  },
  {
   "cell_type": "code",
   "execution_count": null,
   "id": "06e745e5",
   "metadata": {},
   "outputs": [],
   "source": []
  },
  {
   "cell_type": "code",
   "execution_count": null,
   "id": "20d05235",
   "metadata": {},
   "outputs": [],
   "source": []
  }
 ],
 "metadata": {
  "kernelspec": {
   "display_name": "Python 3",
   "language": "python",
   "name": "python3"
  },
  "language_info": {
   "codemirror_mode": {
    "name": "ipython",
    "version": 3
   },
   "file_extension": ".py",
   "mimetype": "text/x-python",
   "name": "python",
   "nbconvert_exporter": "python",
   "pygments_lexer": "ipython3",
   "version": "3.8.10"
  }
 },
 "nbformat": 4,
 "nbformat_minor": 5
}

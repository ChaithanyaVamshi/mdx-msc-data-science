{
 "cells": [
  {
   "cell_type": "code",
   "execution_count": 1,
   "metadata": {},
   "outputs": [],
   "source": [
    "import numpy as np\n",
    "np.random.seed(123)\n",
    "\n",
    "import matplotlib as mpl\n",
    "import matplotlib.pyplot as plt\n",
    "import matplotlib.ticker as ticker\n",
    "from mpl_toolkits.mplot3d.art3d import Poly3DCollection\n",
    "from tqdm import tqdm\n",
    "\n",
    "plt.rcParams.update({'figure.max_open_warning': 0})"
   ]
  },
  {
   "cell_type": "code",
   "execution_count": 2,
   "metadata": {},
   "outputs": [],
   "source": [
    "size = 51\n",
    "size_class_0 = size//2+size%2\n",
    "size_class_1 = size//2\n",
    "number_of_intervals = 10\n",
    "default_value = 0\n",
    "color_map = {0: \"#ce5580\", 1:\"#4a8082\"}\n",
    "alpha_map = {True: 0.6, False: 0.25}\n",
    "remaining_class = {0:1, 1:0}"
   ]
  },
  {
   "cell_type": "code",
   "execution_count": 3,
   "metadata": {},
   "outputs": [
    {
     "data": {
      "text/plain": [
       "array([[0.69646919, 0.28613933, 0.22685145],\n",
       "       [0.55131477, 0.71946897, 0.42310646],\n",
       "       [0.9807642 , 0.68482974, 0.4809319 ],\n",
       "       [0.39211752, 0.34317802, 0.72904971],\n",
       "       [0.43857224, 0.0596779 , 0.39804426],\n",
       "       [0.73799541, 0.18249173, 0.17545176],\n",
       "       [0.53155137, 0.53182759, 0.63440096],\n",
       "       [0.84943179, 0.72445532, 0.61102351],\n",
       "       [0.72244338, 0.32295891, 0.36178866],\n",
       "       [0.22826323, 0.29371405, 0.63097612],\n",
       "       [0.09210494, 0.43370117, 0.43086276],\n",
       "       [0.4936851 , 0.42583029, 0.31226122],\n",
       "       [0.42635131, 0.89338916, 0.94416002],\n",
       "       [0.50183668, 0.62395295, 0.1156184 ],\n",
       "       [0.31728548, 0.41482621, 0.86630916],\n",
       "       [0.25045537, 0.48303426, 0.98555979],\n",
       "       [0.51948512, 0.61289453, 0.12062867],\n",
       "       [0.8263408 , 0.60306013, 0.54506801],\n",
       "       [0.34276383, 0.30412079, 0.41702221],\n",
       "       [0.68130077, 0.87545684, 0.51042234],\n",
       "       [0.66931378, 0.58593655, 0.6249035 ],\n",
       "       [0.67468905, 0.84234244, 0.08319499],\n",
       "       [0.76368284, 0.24366637, 0.19422296],\n",
       "       [0.57245696, 0.09571252, 0.88532683],\n",
       "       [0.62724897, 0.72341636, 0.01612921],\n",
       "       [0.59443188, 0.55678519, 0.15895964],\n",
       "       [0.15307052, 0.69552953, 0.31876643],\n",
       "       [0.6919703 , 0.55438325, 0.38895057],\n",
       "       [0.92513249, 0.84167   , 0.35739757],\n",
       "       [0.04359146, 0.30476807, 0.39818568],\n",
       "       [0.70495883, 0.99535848, 0.35591487],\n",
       "       [0.76254781, 0.59317692, 0.6917018 ],\n",
       "       [0.15112745, 0.39887629, 0.2408559 ],\n",
       "       [0.34345601, 0.51312815, 0.66662455],\n",
       "       [0.10590849, 0.13089495, 0.32198061],\n",
       "       [0.66156434, 0.84650623, 0.55325734],\n",
       "       [0.85445249, 0.38483781, 0.3167879 ],\n",
       "       [0.35426468, 0.17108183, 0.82911263],\n",
       "       [0.33867085, 0.55237008, 0.57855147],\n",
       "       [0.52153306, 0.00268806, 0.98834542],\n",
       "       [0.90534158, 0.20763586, 0.29248941],\n",
       "       [0.52001015, 0.90191137, 0.98363088],\n",
       "       [0.25754206, 0.56435904, 0.80696868],\n",
       "       [0.39437005, 0.73107304, 0.16106901],\n",
       "       [0.60069857, 0.86586446, 0.98352161],\n",
       "       [0.07936579, 0.42834727, 0.20454286],\n",
       "       [0.45063649, 0.54776357, 0.09332671],\n",
       "       [0.29686078, 0.92758424, 0.56900373],\n",
       "       [0.457412  , 0.75352599, 0.74186215],\n",
       "       [0.04857903, 0.7086974 , 0.83924335],\n",
       "       [0.16593788, 0.78099794, 0.28653662]])"
      ]
     },
     "execution_count": 3,
     "metadata": {},
     "output_type": "execute_result"
    }
   ],
   "source": [
    "np_arr = np.random.rand(size,3)\n",
    "np_arr"
   ]
  },
  {
   "cell_type": "code",
   "execution_count": 4,
   "metadata": {},
   "outputs": [
    {
     "data": {
      "text/plain": [
       "array([0, 0, 0, 0, 0, 0, 0, 0, 0, 0, 0, 0, 0, 0, 0, 0, 0, 0, 0, 0, 0, 0,\n",
       "       0, 0, 0, 0, 1, 1, 1, 1, 1, 1, 1, 1, 1, 1, 1, 1, 1, 1, 1, 1, 1, 1,\n",
       "       1, 1, 1, 1, 1, 1, 1])"
      ]
     },
     "execution_count": 4,
     "metadata": {},
     "output_type": "execute_result"
    }
   ],
   "source": [
    "t = np.array([0 for x in range(size_class_0)] + [1 for x in range(size_class_1)])\n",
    "t"
   ]
  },
  {
   "cell_type": "markdown",
   "metadata": {},
   "source": [
    "### Functions"
   ]
  },
  {
   "cell_type": "code",
   "execution_count": 5,
   "metadata": {},
   "outputs": [],
   "source": [
    "def get_borders(x):\n",
    "    return x/number_of_intervals, (x+1)/number_of_intervals\n",
    "\n",
    "def init_dict(default=0):\n",
    "    obj = {}\n",
    "    obj['samples'] = []\n",
    "    obj['idxs'] = []\n",
    "    obj['default'] = default\n",
    "    return obj\n",
    "\n",
    "def group_data(obj, data_range, t=t, level=0):\n",
    "    for idx in data_range:\n",
    "        val = np_arr[:, level][idx]\n",
    "        if val >= low and val < high:\n",
    "            obj['samples'].append(t[idx])\n",
    "            obj['idxs'].append(idx)\n",
    "    return obj\n",
    "\n",
    "def get_result(obj):\n",
    "    if obj['samples'].count(obj['default']) >= obj['samples'].count(remaining_class[obj['default']]):\n",
    "        return obj['default'] \n",
    "    else:\n",
    "        return remaining_class[obj['default']] \n",
    "    \n",
    "def get_missing(obj):\n",
    "    return len([x for x in obj['samples'] if x != obj['result']])\n",
    "\n",
    "def is_empty(obj):\n",
    "    return bool(obj['samples'])"
   ]
  },
  {
   "cell_type": "markdown",
   "metadata": {},
   "source": [
    "## 1D"
   ]
  },
  {
   "cell_type": "code",
   "execution_count": 6,
   "metadata": {},
   "outputs": [],
   "source": [
    "one_d_distribution = {}\n",
    "missed_results = 0\n",
    "for x in range(number_of_intervals):\n",
    "    \n",
    "    low, high = get_borders(x)\n",
    "    one_d_distribution[low] = init_dict()\n",
    "    one_d_distribution[low] = group_data(one_d_distribution[low], [x for x in range(len(np_arr[:, 0]))], level=0)\n",
    "    one_d_distribution[low]['result'] = get_result(one_d_distribution[low])\n",
    "    one_d_distribution[low]['missed'] = get_missing(one_d_distribution[low])\n",
    "    missed_results += one_d_distribution[low]['missed']\n",
    "\n",
    "empty_intervals = len([x for x in one_d_distribution if (not one_d_distribution[x]['samples'])])"
   ]
  },
  {
   "cell_type": "code",
   "execution_count": 7,
   "metadata": {},
   "outputs": [
    {
     "data": {
      "image/png": "[encoded data removed]",
      "text/plain": [
       "<Figure size 1000x600 with 1 Axes>"
      ]
     },
     "metadata": {},
     "output_type": "display_data"
    }
   ],
   "source": [
    "fig = plt.figure(figsize=(10, 6))\n",
    "ax = fig.add_subplot(111)\n",
    "\n",
    "ax.scatter(np_arr[:size_class_0,0], [0]*(size_class_0),\n",
    "    edgecolors = color_map[0],\n",
    "    c = \"None\",\n",
    "    s = 20,\n",
    "    marker = \"o\",\n",
    "    label = \"Class 0\",\n",
    ")\n",
    "ax.scatter(np_arr[size_class_0:,0], [0.05]*(size_class_1),\n",
    "    edgecolors = color_map[1],\n",
    "    c = \"None\",\n",
    "    s = 20,\n",
    "    marker = \"X\",\n",
    "    label = \"Class 1\",\n",
    ")\n",
    "\n",
    "number_of_intervals = 10\n",
    "for x in range(number_of_intervals):\n",
    "    low = x/number_of_intervals\n",
    "    color = color_map[one_d_distribution[low]['result']]        \n",
    "    ax.fill_between([low, (x+1)/number_of_intervals], [0.1, 0.1], [-0.05, -0.05],\n",
    "        alpha = alpha_map[is_empty(one_d_distribution[low])],\n",
    "        color = color,\n",
    "        zorder = 1\n",
    "    )\n",
    "\n",
    "ax.xaxis.set_major_locator(ticker.MultipleLocator(0.1))\n",
    "\n",
    "ax.set_xlim(0,1)\n",
    "ax.set_ylim(-1,1)\n",
    "ax.get_yaxis().set_visible(False)\n",
    "\n",
    "ax.spines[\"left\"].set_visible(False)\n",
    "ax.spines[\"right\"].set_visible(False)\n",
    "ax.spines[\"top\"].set_visible(False)\n",
    "ax.spines[\"bottom\"].set_position((\"data\",-0.01295))\n",
    "ax.spines[\"bottom\"].set_zorder(0)\n",
    "ax.legend(frameon=False,loc=(0.01,0.55))\n",
    "\n",
    "plt.tight_layout()\n",
    "plt.show()"
   ]
  },
  {
   "cell_type": "code",
   "execution_count": 8,
   "metadata": {},
   "outputs": [
    {
     "data": {
      "text/plain": [
       "(17, 0)"
      ]
     },
     "execution_count": 8,
     "metadata": {},
     "output_type": "execute_result"
    }
   ],
   "source": [
    "missed_results, empty_intervals"
   ]
  },
  {
   "cell_type": "markdown",
   "metadata": {},
   "source": [
    "## 2D"
   ]
  },
  {
   "cell_type": "code",
   "execution_count": 9,
   "metadata": {},
   "outputs": [],
   "source": [
    "two_d_distribution = {}\n",
    "missed_results = 0\n",
    "for k in one_d_distribution:\n",
    "    two_d_distribution[k] = {}\n",
    "    for y in range(number_of_intervals):\n",
    "        low, high = get_borders(y)\n",
    "        two_d_distribution[k][low] = init_dict(one_d_distribution[k]['result'])\n",
    "        two_d_distribution[k][low] = group_data(two_d_distribution[k][low], one_d_distribution[k]['idxs'], level=1)\n",
    "        \n",
    "        if not two_d_distribution[k][low]['samples']:\n",
    "            two_d_distribution[k][low]['result'] = one_d_distribution[k]['result']\n",
    "        else:        \n",
    "            two_d_distribution[k][low]['result'] = get_result(two_d_distribution[k][low])\n",
    "        two_d_distribution[k][low]['missed'] = get_missing(two_d_distribution[k][low])\n",
    "        missed_results += two_d_distribution[k][low]['missed']\n",
    "\n",
    "empty_intervals = len(sum([[two_d_distribution[i][j] for j in two_d_distribution[i] if (not two_d_distribution[i][j]['samples'])] for i in two_d_distribution], []))"
   ]
  },
  {
   "cell_type": "code",
   "execution_count": 10,
   "metadata": {},
   "outputs": [
    {
     "data": {
      "image/png": "[encoded data removed]",
      "text/plain": [
       "<Figure size 800x800 with 1 Axes>"
      ]
     },
     "metadata": {},
     "output_type": "display_data"
    }
   ],
   "source": [
    "fig = plt.figure(figsize=(8, 8))\n",
    "ax = fig.add_subplot(111)\n",
    "\n",
    "ax.scatter(np_arr[:size_class_0,0], np_arr[:size_class_0,1],\n",
    "    edgecolors = color_map[0],\n",
    "    c = \"None\",\n",
    "    s = 20,\n",
    "    marker = \"o\",\n",
    "    label = \"Class 0\",\n",
    ")\n",
    "ax.scatter(np_arr[size_class_0:,0], np_arr[size_class_0:,1],\n",
    "    edgecolors = color_map[1],\n",
    "    c = \"None\",\n",
    "    s = 20,\n",
    "    marker = \"X\",\n",
    "    label = \"Class 1\",\n",
    ")\n",
    "\n",
    "for x in range(number_of_intervals):\n",
    "    for y in range(number_of_intervals):\n",
    "        low_x = x/number_of_intervals\n",
    "        low_y = y/number_of_intervals\n",
    "        \n",
    "        high_x = (x+1)/number_of_intervals\n",
    "        high_y = (y+1)/number_of_intervals\n",
    "        \n",
    "        color = color_map[two_d_distribution[low_x][low_y]['result']]        \n",
    "        ax.fill_between([low_x, high_x], [low_y, low_y], [high_y, high_y],\n",
    "            alpha = alpha_map[is_empty(two_d_distribution[low_x][low_y])],\n",
    "            color = color,\n",
    "            zorder = 1\n",
    "        )\n",
    "        \n",
    "ax.set_xlim(0.0,1.0)\n",
    "ax.set_ylim(0.0,1.0)\n",
    "\n",
    "ax.xaxis.set_major_locator(ticker.MultipleLocator(0.1))\n",
    "ax.yaxis.set_major_locator(ticker.MultipleLocator(0.1))\n",
    "ax.legend(frameon=False,loc=(0,-0.1))\n",
    "\n",
    "plt.tight_layout()\n",
    "plt.show()\n"
   ]
  },
  {
   "cell_type": "code",
   "execution_count": 11,
   "metadata": {},
   "outputs": [
    {
     "data": {
      "text/plain": [
       "(5, 59)"
      ]
     },
     "execution_count": 11,
     "metadata": {},
     "output_type": "execute_result"
    }
   ],
   "source": [
    "missed_results, empty_intervals"
   ]
  },
  {
   "cell_type": "markdown",
   "metadata": {},
   "source": [
    "## 3D"
   ]
  },
  {
   "cell_type": "code",
   "execution_count": 12,
   "metadata": {},
   "outputs": [],
   "source": [
    "MAX_ANGLE = 360"
   ]
  },
  {
   "cell_type": "code",
   "execution_count": 13,
   "metadata": {},
   "outputs": [],
   "source": [
    "three_d_distribution = {}\n",
    "missed_results = 0\n",
    "for k in two_d_distribution:\n",
    "    three_d_distribution[k] = {}\n",
    "    for l in two_d_distribution[k]:\n",
    "        three_d_distribution[k][l] = {}\n",
    "        for y in range(number_of_intervals):\n",
    "            low, high = get_borders(y)\n",
    "            three_d_distribution[k][l][low] = init_dict(two_d_distribution[k][l]['result'])\n",
    "            three_d_distribution[k][l][low] = group_data(three_d_distribution[k][l][low], two_d_distribution[k][l]['idxs'], level=2)\n",
    "\n",
    "            if not three_d_distribution[k][l][low]['samples']:\n",
    "                three_d_distribution[k][l][low]['result'] = two_d_distribution[k][l]['result']\n",
    "            else:        \n",
    "                three_d_distribution[k][l][low]['result'] = get_result(three_d_distribution[k][l][low])\n",
    "            three_d_distribution[k][l][low]['missed'] = get_missing(three_d_distribution[k][l][low])\n",
    "            missed_results += three_d_distribution[k][l][low]['missed']"
   ]
  },
  {
   "cell_type": "code",
   "execution_count": null,
   "metadata": {
    "scrolled": true
   },
   "outputs": [],
   "source": [
    "for angle in tqdm(range(0,MAX_ANGLE)):\n",
    "    fig = plt.figure(figsize=(6,6))\n",
    "    ax = fig.add_subplot(111, projection=\"3d\")\n",
    "\n",
    "    ax.scatter3D(np_arr[:size_class_0,0], np_arr[:size_class_0,1], np_arr[:size_class_0,2],\n",
    "        edgecolor = color_map[0],\n",
    "        facecolor=(0,0,0,0),\n",
    "        s = 20,\n",
    "        marker = \"o\",\n",
    "        label = \"Class 0\"\n",
    "    )\n",
    "    ax.scatter3D(np_arr[size_class_0:,0], np_arr[size_class_0:,1], np_arr[size_class_0:,2],\n",
    "        edgecolor = color_map[1],\n",
    "        facecolor=(0,0,0,0),\n",
    "        s = 20,\n",
    "        marker = \"X\",\n",
    "        label = \"Class 1\",\n",
    "    )\n",
    "\n",
    "    for x in range(number_of_intervals):\n",
    "        for y in range(number_of_intervals):\n",
    "            for z in range(number_of_intervals):\n",
    "                low_x = x/number_of_intervals\n",
    "                low_y = y/number_of_intervals\n",
    "                low_z = z/number_of_intervals\n",
    "\n",
    "                high_x = (x+1)/number_of_intervals\n",
    "                high_y = (y+1)/number_of_intervals\n",
    "                high_z = (z+1)/number_of_intervals\n",
    "                \n",
    "                arr = []\n",
    "                if three_d_distribution[low_x][low_y][low_z]['samples']:\n",
    "                    arr.append([[low_x, low_y, low_z], [high_x, low_y, low_z], [high_x, high_y, low_z], [low_x, high_y, low_z]])\n",
    "                    arr.append([[low_x, low_y, high_z], [high_x, low_y, high_z], [high_x, high_y, high_z], [low_x, high_y, high_z]])\n",
    "                    arr.append([[low_x, low_y, low_z], [high_x, low_y, low_z], [high_x, low_y, high_z], [low_x, low_y, high_z]])\n",
    "                    arr.append([[low_x, high_y, low_z], [high_x, high_y, low_z], [high_x, high_y, high_z], [low_x, high_y, high_z]])\n",
    "                    arr.append([[low_x, low_y, low_z], [low_x, high_y, low_z], [low_x, high_y, high_z], [low_x, low_y, high_z]])\n",
    "                    arr.append([[high_x, low_y, low_z], [high_x, high_y, low_z], [high_x, high_y, high_z], [high_x, low_y, high_z]])\n",
    "                color = color_map[three_d_distribution[low_x][low_y][low_z]['result']]\n",
    "                \n",
    "                ax.add_collection3d(Poly3DCollection(\n",
    "                    arr,\n",
    "                    facecolors=color,\n",
    "                    linewidths=0.5,\n",
    "                    edgecolors=\"k\",\n",
    "                    alpha=0.25)\n",
    "                )\n",
    "\n",
    "    ax.set_xlim(0,1)\n",
    "    ax.set_ylim(0,1)\n",
    "    ax.set_zlim(0,1)\n",
    "\n",
    "    plt.tight_layout()\n",
    "    \n",
    "    ##folder should exist\n",
    "    ##to check may consider using os.listdir, os.mkdir\n",
    "    ax.view_init(30,angle/2)\n",
    "    if angle < 10:\n",
    "        angle_str = \"00\" + str(angle)\n",
    "    elif angle < 100:\n",
    "        angle_str = \"0\" + str(angle)\n",
    "    else:\n",
    "        angle_str = str(angle)\n",
    "    plt.savefig(\"3d/step\"+angle_str+\".png\")\n",
    "\n",
    "plt.show()"
   ]
  }
 ],
 "metadata": {
  "kernelspec": {
   "display_name": "Python 3",
   "language": "python",
   "name": "python3"
  },
  "language_info": {
   "codemirror_mode": {
    "name": "ipython",
    "version": 3
   },
   "file_extension": ".py",
   "mimetype": "text/x-python",
   "name": "python",
   "nbconvert_exporter": "python",
   "pygments_lexer": "ipython3",
   "version": "3.8.10"
  }
 },
 "nbformat": 4,
 "nbformat_minor": 4
}

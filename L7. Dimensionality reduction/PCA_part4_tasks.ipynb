{
 "cells": [
  {
   "cell_type": "markdown",
   "id": "2ff35437",
   "metadata": {},
   "source": [
    "This pca notebook is designed for self-check your PCA understanding"
   ]
  },
  {
   "cell_type": "code",
   "execution_count": null,
   "id": "7dc5521e",
   "metadata": {},
   "outputs": [],
   "source": [
    "!pip install sklearn\n",
    "\n",
    "import pandas as pd\n",
    "from sklearn.decomposition import PCA\n",
    "import matplotlib.pyplot as plt"
   ]
  },
  {
   "cell_type": "code",
   "execution_count": null,
   "id": "2bf1b4fb",
   "metadata": {},
   "outputs": [],
   "source": [
    "filename = 'iris.data'"
   ]
  },
  {
   "cell_type": "code",
   "execution_count": null,
   "id": "bbe9a802",
   "metadata": {},
   "outputs": [],
   "source": [
    "#original source: https://archive.ics.uci.edu/ml/machine-learning-databases/iris/\n",
    "\n",
    "#Don't think too much about the getDataset method. It is used for convenience\n",
    "def getDataset(filename, **kwargs):\n",
    "    url = f'https://github.com/IvanReznikov/mdx-msc-data-science/raw/main/datasets/{filename}'\n",
    "    try:\n",
    "        import os\n",
    "        if filename not in os.listdir():\n",
    "            !pip install wget\n",
    "            import wget\n",
    "            downloaded_filename = wget.download(url)\n",
    "            print(f'{downloaded_filename} file downloaded')\n",
    "        else:\n",
    "            print(f'{filename} already exists')\n",
    "        return pd.read_csv(filename, **kwargs)\n",
    "        \n",
    "    except Exception as e:\n",
    "        print(e)\n",
    "        return pd.read_csv(url, **kwargs)"
   ]
  },
  {
   "cell_type": "code",
   "execution_count": null,
   "id": "45190c8b",
   "metadata": {},
   "outputs": [],
   "source": [
    "df = getDataset(filename, names=['sepal length','sepal width','petal length','petal width','target'])\n",
    "df.head()"
   ]
  },
  {
   "cell_type": "code",
   "execution_count": null,
   "id": "75aae07a",
   "metadata": {},
   "outputs": [],
   "source": [
    "df['target'].unique()"
   ]
  },
  {
   "cell_type": "code",
   "execution_count": null,
   "id": "778e37b2",
   "metadata": {},
   "outputs": [],
   "source": [
    "features = ['sepal length', 'sepal width', 'petal length', 'petal width']\n",
    "\n",
    "# Separating out the features\n",
    "x = df.loc[:, features].values\n",
    "\n",
    "# Separating out the target\n",
    "y = df.loc[:,['target']].values"
   ]
  },
  {
   "cell_type": "markdown",
   "id": "23a53c7e",
   "metadata": {},
   "source": [
    "Task 1. Plot several 2D plots. Can you find 3 separate classes?"
   ]
  },
  {
   "cell_type": "code",
   "execution_count": null,
   "id": "51393026",
   "metadata": {},
   "outputs": [],
   "source": []
  },
  {
   "cell_type": "code",
   "execution_count": null,
   "id": "50b5245b",
   "metadata": {},
   "outputs": [],
   "source": []
  },
  {
   "cell_type": "code",
   "execution_count": null,
   "id": "dd382a2a",
   "metadata": {},
   "outputs": [],
   "source": []
  },
  {
   "cell_type": "markdown",
   "id": "eb1bfea3",
   "metadata": {},
   "source": [
    "Task 2. Perform PCA. What are the contributions of PC? \n",
    "How many components you think are required?"
   ]
  },
  {
   "cell_type": "code",
   "execution_count": null,
   "id": "fe251f24",
   "metadata": {},
   "outputs": [],
   "source": []
  },
  {
   "cell_type": "markdown",
   "id": "0d9472a2",
   "metadata": {},
   "source": [
    "Task 3. Find what features are highly included in PCn"
   ]
  },
  {
   "cell_type": "code",
   "execution_count": null,
   "id": "8f696b15",
   "metadata": {},
   "outputs": [],
   "source": []
  },
  {
   "cell_type": "markdown",
   "id": "8cdcd131",
   "metadata": {},
   "source": [
    "Task 4. Obtain the PCA_df dataframe by concatenation (`pd.concat(data=<pca_data>, <target_data>, axis=1`)"
   ]
  },
  {
   "cell_type": "code",
   "execution_count": null,
   "id": "b4c3575e",
   "metadata": {},
   "outputs": [],
   "source": []
  },
  {
   "cell_type": "markdown",
   "id": "2bb9a78a",
   "metadata": {},
   "source": [
    "We'll use colormaping for plotting purposes"
   ]
  },
  {
   "cell_type": "code",
   "execution_count": null,
   "id": "1eb79f84",
   "metadata": {},
   "outputs": [],
   "source": [
    "cmap = {'Iris-setosa': 0, 'Iris-versicolor': 1, 'Iris-virginica':2}\n",
    "PCA_df['cmap'] = PCA_df['target'].replace(cmap)"
   ]
  },
  {
   "cell_type": "markdown",
   "id": "63a78ba6",
   "metadata": {},
   "source": [
    "Our PC1 plot will be located at x-axis. Index will be used for y-axis"
   ]
  },
  {
   "cell_type": "code",
   "execution_count": null,
   "id": "202d2354",
   "metadata": {},
   "outputs": [],
   "source": [
    "plt.scatter(PCA_df[0], PCA_df.index, c=PCA_df['cmap'])\n",
    "plt.show()"
   ]
  },
  {
   "cell_type": "markdown",
   "id": "81758825",
   "metadata": {},
   "source": [
    "Task 5. Draw the feature on what PC1 most depends on. What conclusions can you make comparing the 2 plots side-by-side?"
   ]
  },
  {
   "cell_type": "code",
   "execution_count": null,
   "id": "52ed3e5d",
   "metadata": {},
   "outputs": [],
   "source": []
  }
 ],
 "metadata": {
  "kernelspec": {
   "display_name": "Python 3",
   "language": "python",
   "name": "python3"
  },
  "language_info": {
   "codemirror_mode": {
    "name": "ipython",
    "version": 3
   },
   "file_extension": ".py",
   "mimetype": "text/x-python",
   "name": "python",
   "nbconvert_exporter": "python",
   "pygments_lexer": "ipython3",
   "version": "3.8.10"
  }
 },
 "nbformat": 4,
 "nbformat_minor": 5
}

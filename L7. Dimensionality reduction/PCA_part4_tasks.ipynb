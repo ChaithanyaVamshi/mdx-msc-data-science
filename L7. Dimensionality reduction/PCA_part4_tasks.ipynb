{
 "cells": [
  {
   "cell_type": "markdown",
   "id": "e0d2d3c0",
   "metadata": {},
   "source": [
    "This pca notebook is designed for self-check your PCA understanding"
   ]
  },
  {
   "cell_type": "code",
   "execution_count": null,
   "id": "c590dab1",
   "metadata": {},
   "outputs": [],
   "source": [
    "import pandas as pd\n",
    "from sklearn.decomposition import PCA\n",
    "import matplotlib.pyplot as plt"
   ]
  },
  {
   "cell_type": "code",
   "execution_count": null,
   "id": "2dd6f231",
   "metadata": {},
   "outputs": [],
   "source": [
    "#original source: https://archive.ics.uci.edu/ml/machine-learning-databases/iris/\n",
    "\n",
    "filename = 'iris.data'\n",
    "def getDataset(filename):\n",
    "    import os\n",
    "    if filename not in os.listdir():\n",
    "        !pip3 install wget\n",
    "        import wget\n",
    "        url = f'https://github.com/IvanReznikov/mdx-msc-data-science/raw/main/datasets/{filename}'\n",
    "        downloaded_filename = wget.download(url)\n",
    "        print(f'{downloaded_filename} file downloaded')\n",
    "    else:\n",
    "        print(f'{filename} already exists')\n",
    "        \n",
    "getDataset(filename)"
   ]
  },
  {
   "cell_type": "code",
   "execution_count": null,
   "id": "e6986f41",
   "metadata": {},
   "outputs": [],
   "source": [
    "df = pd.read_csv(filename, names=['sepal length','sepal width','petal length','petal width','target'])\n",
    "df.head()"
   ]
  },
  {
   "cell_type": "code",
   "execution_count": null,
   "id": "83dd7d01",
   "metadata": {},
   "outputs": [],
   "source": [
    "df['target'].unique()"
   ]
  },
  {
   "cell_type": "code",
   "execution_count": null,
   "id": "2ccbd2f3",
   "metadata": {},
   "outputs": [],
   "source": [
    "features = ['sepal length', 'sepal width', 'petal length', 'petal width']\n",
    "\n",
    "# Separating out the features\n",
    "x = df.loc[:, features].values\n",
    "\n",
    "# Separating out the target\n",
    "y = df.loc[:,['target']].values"
   ]
  },
  {
   "cell_type": "markdown",
   "id": "15a8438a",
   "metadata": {},
   "source": [
    "Task 1. Plot several 2D plots. Can you find 3 separate classes?"
   ]
  },
  {
   "cell_type": "code",
   "execution_count": null,
   "id": "23c784c8",
   "metadata": {},
   "outputs": [],
   "source": []
  },
  {
   "cell_type": "code",
   "execution_count": null,
   "id": "0c3efdbb",
   "metadata": {},
   "outputs": [],
   "source": []
  },
  {
   "cell_type": "code",
   "execution_count": null,
   "id": "70465bc9",
   "metadata": {},
   "outputs": [],
   "source": []
  },
  {
   "cell_type": "markdown",
   "id": "10303f75",
   "metadata": {},
   "source": [
    "Task 2. Perform PCA. What are the contributions of PC? \n",
    "How many components you think are required?"
   ]
  },
  {
   "cell_type": "code",
   "execution_count": null,
   "id": "b3b5b4d1",
   "metadata": {},
   "outputs": [],
   "source": []
  },
  {
   "cell_type": "markdown",
   "id": "3e43321e",
   "metadata": {},
   "source": [
    "Task 3. Find what features are highly included in PCn"
   ]
  },
  {
   "cell_type": "code",
   "execution_count": null,
   "id": "7d144ab1",
   "metadata": {},
   "outputs": [],
   "source": []
  },
  {
   "cell_type": "markdown",
   "id": "072d4e8e",
   "metadata": {},
   "source": [
    "Task 4. Obtain the PCA_df dataframe by concatenation (`pd.concat(data=<pca_data>, <target_data>, axis=1`)"
   ]
  },
  {
   "cell_type": "code",
   "execution_count": null,
   "id": "a2af6695",
   "metadata": {},
   "outputs": [],
   "source": []
  },
  {
   "cell_type": "markdown",
   "id": "c6e81923",
   "metadata": {},
   "source": [
    "We'll use colormaping for plotting purposes"
   ]
  },
  {
   "cell_type": "code",
   "execution_count": null,
   "id": "45b0f44e",
   "metadata": {},
   "outputs": [],
   "source": [
    "cmap = {'Iris-setosa': 0, 'Iris-versicolor': 1, 'Iris-virginica':2}\n",
    "PCA_df['cmap'] = PCA_df['target'].replace(cmap)"
   ]
  },
  {
   "cell_type": "markdown",
   "id": "722ba143",
   "metadata": {},
   "source": [
    "Our PC1 plot will be located at x-axis. Index will be used for y-axis"
   ]
  },
  {
   "cell_type": "code",
   "execution_count": null,
   "id": "7acdccf3",
   "metadata": {},
   "outputs": [],
   "source": [
    "plt.scatter(PCA_df[0], PCA_df.index, c=PCA_df['cmap'])\n",
    "plt.show()"
   ]
  },
  {
   "cell_type": "markdown",
   "id": "7e00929d",
   "metadata": {},
   "source": [
    "Task 5. Draw the feature on what PC1 most depends on. What conclusions can you make comparing the 2 plots side-by-side?"
   ]
  },
  {
   "cell_type": "code",
   "execution_count": null,
   "id": "fab26e87",
   "metadata": {},
   "outputs": [],
   "source": []
  }
 ],
 "metadata": {
  "kernelspec": {
   "display_name": "Python 3",
   "language": "python",
   "name": "python3"
  },
  "language_info": {
   "codemirror_mode": {
    "name": "ipython",
    "version": 3
   },
   "file_extension": ".py",
   "mimetype": "text/x-python",
   "name": "python",
   "nbconvert_exporter": "python",
   "pygments_lexer": "ipython3",
   "version": "3.8.10"
  }
 },
 "nbformat": 4,
 "nbformat_minor": 5
}
